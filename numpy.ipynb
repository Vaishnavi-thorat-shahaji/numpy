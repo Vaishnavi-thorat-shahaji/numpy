{
 "cells": [
  {
   "cell_type": "markdown",
   "id": "871d6d7c",
   "metadata": {},
   "source": [
    "### numpy"
   ]
  },
  {
   "cell_type": "code",
   "execution_count": 1,
   "id": "75637730",
   "metadata": {},
   "outputs": [
    {
     "data": {
      "text/plain": [
       "'1.25.2'"
      ]
     },
     "execution_count": 1,
     "metadata": {},
     "output_type": "execute_result"
    }
   ],
   "source": [
    "import numpy as np\n",
    "np.__version__"
   ]
  },
  {
   "cell_type": "code",
   "execution_count": 2,
   "id": "87263d35",
   "metadata": {},
   "outputs": [
    {
     "name": "stdout",
     "output_type": "stream",
     "text": [
      "[1 2 3 4 5 6 7 8]\n",
      "<class 'numpy.ndarray'>\n"
     ]
    }
   ],
   "source": [
    "arr = np.array([1,2,3,4,5,6,7,8])\n",
    "print(arr)\n",
    "print(type(arr))"
   ]
  },
  {
   "cell_type": "code",
   "execution_count": 3,
   "id": "684b6beb",
   "metadata": {},
   "outputs": [
    {
     "name": "stdout",
     "output_type": "stream",
     "text": [
      "[11 22 33 44 55 66]\n",
      "<class 'numpy.ndarray'>\n"
     ]
    }
   ],
   "source": [
    "l = [11,22,33,44,55,66]\n",
    "ar = np.array(l)\n",
    "print(ar)\n",
    "print(type(ar))"
   ]
  },
  {
   "cell_type": "code",
   "execution_count": 5,
   "id": "6e1cb35f",
   "metadata": {
    "scrolled": true
   },
   "outputs": [
    {
     "name": "stdout",
     "output_type": "stream",
     "text": [
      "[1 2 3 4 5 6 7 8 9]\n",
      "1\n"
     ]
    }
   ],
   "source": [
    "arr = np.array([1,2,3,4,5,6,7,8,9])\n",
    "print(arr)\n",
    "print(arr.ndim)"
   ]
  },
  {
   "cell_type": "code",
   "execution_count": 8,
   "id": "3f26e5b6",
   "metadata": {},
   "outputs": [
    {
     "name": "stdout",
     "output_type": "stream",
     "text": [
      "[1 2 3 4 5 6]\n",
      "<class 'numpy.ndarray'>\n",
      "1\n"
     ]
    }
   ],
   "source": [
    "tup =(1,2,3,4,5,6)\n",
    "ar = np.array(tup)\n",
    "print(ar)\n",
    "print(type(ar))\n",
    "print(ar.ndim)"
   ]
  },
  {
   "cell_type": "code",
   "execution_count": 9,
   "id": "2862dfdc",
   "metadata": {},
   "outputs": [
    {
     "name": "stdout",
     "output_type": "stream",
     "text": [
      "10\n",
      "0\n"
     ]
    }
   ],
   "source": [
    "arr = np.array(10)\n",
    "print(arr)\n",
    "print(arr.ndim)"
   ]
  },
  {
   "cell_type": "code",
   "execution_count": 12,
   "id": "c87368cb",
   "metadata": {},
   "outputs": [
    {
     "name": "stdout",
     "output_type": "stream",
     "text": [
      "[11 22 33 44 55 66]\n",
      "<class 'numpy.ndarray'>\n",
      "1\n"
     ]
    }
   ],
   "source": [
    "arr = np.array((11,22,33,44,55,66))\n",
    "print(arr)\n",
    "print(type(arr))\n",
    "print(arr.ndim)\n"
   ]
  },
  {
   "cell_type": "code",
   "execution_count": 38,
   "id": "8671fa8e",
   "metadata": {},
   "outputs": [
    {
     "name": "stdout",
     "output_type": "stream",
     "text": [
      "[1 2 3 4 5 6]\n",
      "<class 'numpy.ndarray'>\n",
      "1\n",
      "elements present as 4 th index 6\n",
      "elements present as 3 th index 4\n"
     ]
    }
   ],
   "source": [
    "arr = np.array([1,2,3,4,5,6])\n",
    "print(arr)\n",
    "print(type(arr))\n",
    "print(arr.ndim)\n",
    "# access  element 1-D array\n",
    "print('elements present as 4 th index',arr[5])\n",
    "print('elements present as 3 th index',arr[3])"
   ]
  },
  {
   "cell_type": "code",
   "execution_count": 25,
   "id": "9eacdab2",
   "metadata": {},
   "outputs": [
    {
     "name": "stdout",
     "output_type": "stream",
     "text": [
      "[[1 2 3 4]\n",
      " [5 6 7 8]]\n",
      "2\n"
     ]
    }
   ],
   "source": [
    "arr =[[1,2,3,4],[5,6,7,8]]\n",
    "ar = np.array(arr)\n",
    "print(ar)\n",
    "print(ar.ndim)"
   ]
  },
  {
   "cell_type": "code",
   "execution_count": 31,
   "id": "52cd3b95",
   "metadata": {},
   "outputs": [
    {
     "name": "stdout",
     "output_type": "stream",
     "text": [
      "[[1 2 3]]\n",
      "2\n"
     ]
    }
   ],
   "source": [
    "ar = [[1,2,3]]\n",
    "arr = np.array(ar)\n",
    "print(arr)\n",
    "print(arr.ndim)\n"
   ]
  },
  {
   "cell_type": "code",
   "execution_count": 5,
   "id": "145ccc33",
   "metadata": {},
   "outputs": [
    {
     "data": {
      "text/plain": [
       "'1.25.2'"
      ]
     },
     "execution_count": 5,
     "metadata": {},
     "output_type": "execute_result"
    }
   ],
   "source": [
    "import numpy as np\n",
    "np.__version__"
   ]
  },
  {
   "cell_type": "code",
   "execution_count": 8,
   "id": "f247d8f1",
   "metadata": {},
   "outputs": [
    {
     "name": "stdout",
     "output_type": "stream",
     "text": [
      "[1 2 3 4 5 6]\n",
      "<class 'numpy.ndarray'>\n",
      "1\n"
     ]
    }
   ],
   "source": [
    "arr = np.array([1,2,3,4,5,6])\n",
    "print(arr)\n",
    "print(type(arr))\n",
    "print(arr.ndim)"
   ]
  },
  {
   "cell_type": "code",
   "execution_count": 11,
   "id": "ea46b6ea",
   "metadata": {},
   "outputs": [
    {
     "name": "stdout",
     "output_type": "stream",
     "text": [
      "[1 2 3 4 5 6 7]\n",
      "<class 'numpy.ndarray'>\n",
      "1\n"
     ]
    }
   ],
   "source": [
    "tup = ((1,2,3,4,5,6,7))\n",
    "arr = np.array(tup)\n",
    "print(arr)\n",
    "print(type(arr))\n",
    "print(arr.ndim)"
   ]
  },
  {
   "cell_type": "code",
   "execution_count": 16,
   "id": "61c45245",
   "metadata": {},
   "outputs": [
    {
     "name": "stdout",
     "output_type": "stream",
     "text": [
      "20\n",
      "0\n",
      "[[11 22 33 44 55 66]]\n",
      "2\n",
      "[11 22 33 44 55 66]\n",
      "1\n",
      "[[1 2 3 4]\n",
      " [5 6 7 8]]\n",
      "2\n"
     ]
    }
   ],
   "source": [
    "arr = np.array(20)\n",
    "print(arr)\n",
    "print(arr.ndim)\n",
    "arr = [[11,22,33,44,55,66]]\n",
    "ar = np.array(arr)\n",
    "print(ar)\n",
    "print(ar.ndim)\n",
    "arr = ((11,22,33,44,55,66))\n",
    "ar = np.array(arr)\n",
    "print(ar)\n",
    "print(ar.ndim)\n",
    "\n",
    "arr = [[1,2,3,4],[5,6,7,8]]\n",
    "ar = np.array(arr)\n",
    "print(ar)\n",
    "print(ar.ndim)"
   ]
  },
  {
   "cell_type": "code",
   "execution_count": 26,
   "id": "ca641fcd",
   "metadata": {},
   "outputs": [
    {
     "name": "stdout",
     "output_type": "stream",
     "text": [
      "[[1, 2, 3, 4], [5, 6, 7, 8]]\n",
      "[1, 2, 3, 4]\n",
      "2\n",
      "[5, 6, 7, 8]\n",
      "7\n"
     ]
    }
   ],
   "source": [
    "print(arr)\n",
    "print(arr[0])\n",
    "print(arr[0][1])\n",
    "print(arr[1])\n",
    "print(arr[1][2])\n",
    "\n"
   ]
  },
  {
   "cell_type": "code",
   "execution_count": 28,
   "id": "ae3a2051",
   "metadata": {},
   "outputs": [
    {
     "name": "stdout",
     "output_type": "stream",
     "text": [
      "[[1 2 3 4]\n",
      " [5 6 7 8]]\n",
      "2\n"
     ]
    }
   ],
   "source": [
    "print(ar)\n",
    "print(ar.ndim)"
   ]
  },
  {
   "cell_type": "markdown",
   "id": "c80d0861",
   "metadata": {},
   "source": [
    "### 3- D Array"
   ]
  },
  {
   "cell_type": "code",
   "execution_count": 34,
   "id": "84c29d3f",
   "metadata": {},
   "outputs": [
    {
     "name": "stdout",
     "output_type": "stream",
     "text": [
      "[[[1, 2, 3], [4, 5, 6]], [[7, 8, 9], [11, 12, 13]]]\n",
      "<class 'list'>\n",
      "[[[ 1  2  3]\n",
      "  [ 4  5  6]]\n",
      "\n",
      " [[ 7  8  9]\n",
      "  [11 12 13]]]\n",
      "<class 'numpy.ndarray'>\n",
      "3\n"
     ]
    }
   ],
   "source": [
    "ar = [[[1,2,3],[4,5,6]],[[7,8,9],[11,12,13]]]\n",
    "print(ar)\n",
    "print(type(ar))\n",
    "arr = np.array(ar)\n",
    "print(arr)\n",
    "print(type(arr))\n",
    "print(arr.ndim)"
   ]
  },
  {
   "cell_type": "code",
   "execution_count": 42,
   "id": "e78b9afc",
   "metadata": {},
   "outputs": [
    {
     "name": "stdout",
     "output_type": "stream",
     "text": [
      "[[[ 1  2  3]\n",
      "  [ 4  5  6]]\n",
      "\n",
      " [[ 7  8  9]\n",
      "  [11 12 13]]]\n",
      "[[ 7  8  9]\n",
      " [11 12 13]]\n",
      "[[1 2 3]\n",
      " [4 5 6]]\n",
      "[1 2 3]\n",
      "2\n",
      "[[ 7  8  9]\n",
      " [11 12 13]]\n",
      "[1 2 3]\n",
      "3\n"
     ]
    }
   ],
   "source": [
    "# one way\n",
    "print(arr)\n",
    "print(arr[1])\n",
    "print(arr[0])\n",
    "print(arr[0][0])\n",
    "print(arr[0][0][1])\n",
    "# another way\n",
    "print(arr[1])\n",
    "print(arr[0,0])\n",
    "print(arr[0,0,2])"
   ]
  },
  {
   "cell_type": "code",
   "execution_count": 44,
   "id": "20f8b745",
   "metadata": {},
   "outputs": [
    {
     "name": "stdout",
     "output_type": "stream",
     "text": [
      "0\n",
      "1\n",
      "2\n",
      "3\n"
     ]
    }
   ],
   "source": [
    "a = np.array(10)\n",
    "b = np.array([1,2,3,4,5])\n",
    "c = np.array([[1,2,3],[4,5,6]])\n",
    "d = np.array([[[10,20,30],[40,50,60]],[[70,80,90],[100,110,120]]])\n",
    "print(a.ndim)\n",
    "print(b.ndim)\n",
    "print(c.ndim)\n",
    "print(d.ndim)"
   ]
  },
  {
   "cell_type": "markdown",
   "id": "91c59d08",
   "metadata": {},
   "source": [
    "### create an n dimensinal array \n"
   ]
  },
  {
   "cell_type": "code",
   "execution_count": 48,
   "id": "3b8e4801",
   "metadata": {},
   "outputs": [
    {
     "name": "stdout",
     "output_type": "stream",
     "text": [
      "[[[[[1 2 3 4 5]]]]]\n",
      "5\n"
     ]
    }
   ],
   "source": [
    "arr = np.array([1,2,3,4,5], ndmin =5)\n",
    "print(arr)\n",
    "print(arr.ndim)"
   ]
  },
  {
   "cell_type": "code",
   "execution_count": 49,
   "id": "4f7d740a",
   "metadata": {},
   "outputs": [
    {
     "name": "stdout",
     "output_type": "stream",
     "text": [
      "[[[[[[[11 22 33 44 55]]]]]]]\n",
      "7\n"
     ]
    }
   ],
   "source": [
    "arr = np.array([11,22,33,44,55], ndmin = 7)\n",
    "print(arr)\n",
    "print(arr.ndim)"
   ]
  },
  {
   "cell_type": "markdown",
   "id": "b0ae556b",
   "metadata": {},
   "source": [
    "### 1 - D array"
   ]
  },
  {
   "cell_type": "code",
   "execution_count": 50,
   "id": "1533721c",
   "metadata": {},
   "outputs": [
    {
     "name": "stdout",
     "output_type": "stream",
     "text": [
      "[1 2 3 4 5]\n",
      "1\n"
     ]
    }
   ],
   "source": [
    "arr = ([1,2,3,4,5])\n",
    "ar = np.array(arr)\n",
    "print(ar)\n",
    "print(ar.ndim)"
   ]
  },
  {
   "cell_type": "code",
   "execution_count": 55,
   "id": "6ff34ded",
   "metadata": {},
   "outputs": [
    {
     "name": "stdout",
     "output_type": "stream",
     "text": [
      "[1 2 3 4 5]\n",
      "1\n",
      "5\n"
     ]
    }
   ],
   "source": [
    "print(ar)\n",
    "print(ar[0])\n",
    "print(ar[4])"
   ]
  },
  {
   "cell_type": "code",
   "execution_count": 56,
   "id": "54be5fb3",
   "metadata": {},
   "outputs": [
    {
     "name": "stdout",
     "output_type": "stream",
     "text": [
      "[[1 2 3]\n",
      " [4 5 6]]\n",
      "2\n"
     ]
    }
   ],
   "source": [
    "ar = ([[1,2,3],[4,5,6]])\n",
    "arr = np.array(ar)\n",
    "print(arr)\n",
    "print(arr.ndim)\n"
   ]
  },
  {
   "cell_type": "code",
   "execution_count": 65,
   "id": "2dd926df",
   "metadata": {},
   "outputs": [
    {
     "name": "stdout",
     "output_type": "stream",
     "text": [
      "[[1 2 3]\n",
      " [4 5 6]]\n",
      "[1 2 3]\n",
      "[4 5 6]\n",
      "3\n",
      "5\n",
      "2\n",
      "6\n"
     ]
    }
   ],
   "source": [
    "print(arr)\n",
    "print(arr[0])\n",
    "print(arr[1])\n",
    "print(arr[0][2])\n",
    "print(arr[1][1])\n",
    "print(arr[0,1])\n",
    "print(arr[1,2])"
   ]
  },
  {
   "cell_type": "code",
   "execution_count": 66,
   "id": "1f8e4889",
   "metadata": {},
   "outputs": [
    {
     "name": "stdout",
     "output_type": "stream",
     "text": [
      "[[[ 1  2  3]\n",
      "  [ 4  5  6]]\n",
      "\n",
      " [[ 7  8  9]\n",
      "  [10 11 12]]]\n",
      "3\n"
     ]
    }
   ],
   "source": [
    "arr = ([[[1,2,3],[4,5,6]],[[7,8,9],[10,11,12]]])\n",
    "ar = np.array(arr)\n",
    "print(ar)\n",
    "print(ar.ndim)"
   ]
  },
  {
   "cell_type": "code",
   "execution_count": 76,
   "id": "b150aaf5",
   "metadata": {},
   "outputs": [
    {
     "name": "stdout",
     "output_type": "stream",
     "text": [
      "[[[ 1  2  3]\n",
      "  [ 4  5  6]]\n",
      "\n",
      " [[ 7  8  9]\n",
      "  [10 11 12]]]\n",
      "[[1 2 3]\n",
      " [4 5 6]]\n",
      "[[ 7  8  9]\n",
      " [10 11 12]]\n",
      "[1 2 3]\n",
      "6\n",
      "[7 8 9]\n",
      "12\n",
      "[1 2 3]\n",
      "9\n"
     ]
    }
   ],
   "source": [
    "print(ar)\n",
    "print(ar[0])\n",
    "print(ar[1])\n",
    "print(ar[0][0])\n",
    "print(ar[0][1][2])\n",
    "print(ar[1][0])\n",
    "print(ar[1][1][2])\n",
    "print(ar[0,0])\n",
    "print(ar[1,0,2])"
   ]
  },
  {
   "cell_type": "code",
   "execution_count": 77,
   "id": "439ae4f7",
   "metadata": {},
   "outputs": [
    {
     "name": "stdout",
     "output_type": "stream",
     "text": [
      "0\n",
      "1\n",
      "2\n",
      "3\n"
     ]
    }
   ],
   "source": [
    "a = np.array(100)\n",
    "b = np.array([1,2,3,4])\n",
    "c = np.array([[1,2,3],[4,5,6]])\n",
    "d = np.array([[[1,2,3],[4,5,6]],[[7,8,9],[10,11,12]]])\n",
    "print(a.ndim)\n",
    "print(b.ndim)\n",
    "print(c.ndim)\n",
    "print(d.ndim)"
   ]
  },
  {
   "cell_type": "code",
   "execution_count": 78,
   "id": "cbdbec2c",
   "metadata": {},
   "outputs": [
    {
     "name": "stdout",
     "output_type": "stream",
     "text": [
      "[[[[[[11 22 33 44 55]]]]]]\n",
      "6\n"
     ]
    }
   ],
   "source": [
    "arr = np.array([11,22,33,44,55], ndmin = 6)\n",
    "print(arr)\n",
    "print(arr.ndim)"
   ]
  },
  {
   "cell_type": "code",
   "execution_count": 79,
   "id": "5bbe5096",
   "metadata": {},
   "outputs": [
    {
     "name": "stdout",
     "output_type": "stream",
     "text": [
      "[1 2 3 4 5]\n",
      "<class 'numpy.ndarray'>\n"
     ]
    }
   ],
   "source": [
    "arr = np.array([1,2,3,4,5])\n",
    "print(arr)\n",
    "print(type(arr))"
   ]
  },
  {
   "cell_type": "code",
   "execution_count": 80,
   "id": "3d19f158",
   "metadata": {},
   "outputs": [
    {
     "name": "stdout",
     "output_type": "stream",
     "text": [
      "[11 22 33 44 55 66]\n",
      "<class 'numpy.ndarray'>\n"
     ]
    }
   ],
   "source": [
    "l = [11,22,33,44,55,66]\n",
    "arr = np.array(l)\n",
    "print(arr)\n",
    "print(type(arr))"
   ]
  },
  {
   "cell_type": "code",
   "execution_count": 81,
   "id": "ae0223c1",
   "metadata": {},
   "outputs": [
    {
     "name": "stdout",
     "output_type": "stream",
     "text": [
      "[1 2 3 4 5]\n",
      "<class 'numpy.ndarray'>\n",
      "1\n"
     ]
    }
   ],
   "source": [
    "arr = np.array([1,2,3,4,5])\n",
    "print(arr)\n",
    "print(type(arr))\n",
    "print(arr.ndim)"
   ]
  },
  {
   "cell_type": "code",
   "execution_count": 84,
   "id": "82219b1f",
   "metadata": {},
   "outputs": [
    {
     "name": "stdout",
     "output_type": "stream",
     "text": [
      "[11 22 33 44 55 66]\n",
      "<class 'numpy.ndarray'>\n",
      "1\n"
     ]
    }
   ],
   "source": [
    "tup = (11,22,33,44,55,66)\n",
    "arr = np.array(tup)\n",
    "print(arr)\n",
    "print(type(arr))\n",
    "print(arr.ndim)"
   ]
  },
  {
   "cell_type": "markdown",
   "id": "52c66fdb",
   "metadata": {},
   "source": [
    "### 0-D Array"
   ]
  },
  {
   "cell_type": "code",
   "execution_count": 87,
   "id": "84a9b7a6",
   "metadata": {},
   "outputs": [
    {
     "name": "stdout",
     "output_type": "stream",
     "text": [
      "20\n",
      "0\n"
     ]
    }
   ],
   "source": [
    "arr = np.array(20)\n",
    "print(arr)\n",
    "print(arr.ndim)"
   ]
  },
  {
   "cell_type": "markdown",
   "id": "d9978f01",
   "metadata": {},
   "source": [
    "### 1 - D Array"
   ]
  },
  {
   "cell_type": "code",
   "execution_count": 89,
   "id": "4fa473a9",
   "metadata": {},
   "outputs": [
    {
     "name": "stdout",
     "output_type": "stream",
     "text": [
      "[1, 2, 3, 4, 5, 6, 7]\n",
      "<class 'numpy.ndarray'>\n",
      "1\n"
     ]
    }
   ],
   "source": [
    "arr = ([1,2,3,4,5,6,7])\n",
    "ar = np.array(arr)\n",
    "print(arr)\n",
    "print(type(ar))\n",
    "print(ar.ndim)"
   ]
  },
  {
   "cell_type": "code",
   "execution_count": 91,
   "id": "09f39f1d",
   "metadata": {},
   "outputs": [
    {
     "name": "stdout",
     "output_type": "stream",
     "text": [
      "[1 2 3 4 5 6 7]\n",
      "4\n"
     ]
    }
   ],
   "source": [
    "print(ar)\n",
    "print(ar[3])"
   ]
  },
  {
   "cell_type": "markdown",
   "id": "3e30371c",
   "metadata": {},
   "source": [
    "### 2 - D Array"
   ]
  },
  {
   "cell_type": "code",
   "execution_count": 94,
   "id": "274dd17b",
   "metadata": {},
   "outputs": [
    {
     "name": "stdout",
     "output_type": "stream",
     "text": [
      "[[1 2 3 4]\n",
      " [5 6 7 8]]\n",
      "<class 'numpy.ndarray'>\n",
      "2\n"
     ]
    }
   ],
   "source": [
    "arr = ([[1,2,3,4],[5,6,7,8]])\n",
    "ar = np.array(arr)\n",
    "print(ar)\n",
    "print(type(ar))\n",
    "print(ar.ndim)"
   ]
  },
  {
   "cell_type": "code",
   "execution_count": 99,
   "id": "89e36c7d",
   "metadata": {},
   "outputs": [
    {
     "name": "stdout",
     "output_type": "stream",
     "text": [
      "[[1 2 3 4]\n",
      " [5 6 7 8]]\n",
      "[5 6 7 8]\n",
      "[1 2 3 4]\n",
      "2\n",
      "7\n"
     ]
    }
   ],
   "source": [
    "print(ar)\n",
    "print(ar[1])\n",
    "print(ar[0])\n",
    "print(ar[0][1])\n",
    "print(ar[1][2])"
   ]
  },
  {
   "cell_type": "markdown",
   "id": "fb769575",
   "metadata": {},
   "source": [
    "### 3-D Array"
   ]
  },
  {
   "cell_type": "code",
   "execution_count": 100,
   "id": "50f95f37",
   "metadata": {},
   "outputs": [
    {
     "name": "stdout",
     "output_type": "stream",
     "text": [
      "[[[ 1  2  3]\n",
      "  [ 4  5  6]]\n",
      "\n",
      " [[ 7  8  9]\n",
      "  [10 11 12]]]\n",
      "<class 'numpy.ndarray'>\n",
      "3\n"
     ]
    }
   ],
   "source": [
    "arr = ([[[1,2,3],[4,5,6]],[[7,8,9],[10,11,12]]])\n",
    "ar = np.array(arr)\n",
    "print(ar)\n",
    "print(type(ar))\n",
    "print(ar.ndim)"
   ]
  },
  {
   "cell_type": "code",
   "execution_count": 109,
   "id": "876f5f24",
   "metadata": {},
   "outputs": [
    {
     "name": "stdout",
     "output_type": "stream",
     "text": [
      "[[[ 1  2  3]\n",
      "  [ 4  5  6]]\n",
      "\n",
      " [[ 7  8  9]\n",
      "  [10 11 12]]]\n",
      "[[1 2 3]\n",
      " [4 5 6]]\n",
      "[[ 7  8  9]\n",
      " [10 11 12]]\n",
      "[4 5 6]\n",
      "12\n",
      "3\n",
      "11\n"
     ]
    }
   ],
   "source": [
    "print(ar)\n",
    "print(ar[0])\n",
    "print(ar[1])\n",
    "print(ar[0][1])\n",
    "print(ar[1][1][2])\n",
    "print(ar[0,0,2])\n",
    "print(ar[1,1,1])"
   ]
  },
  {
   "cell_type": "code",
   "execution_count": 110,
   "id": "94eb65e5",
   "metadata": {},
   "outputs": [
    {
     "name": "stdout",
     "output_type": "stream",
     "text": [
      "0\n",
      "1\n",
      "2\n",
      "3\n"
     ]
    }
   ],
   "source": [
    "a = np.array(100)\n",
    "b = np.array([1,2,3,4,5])\n",
    "c = np.array([[1,2,3],[4,5,6]])\n",
    "d = np.array([[[1,2,3],[4,5,6]],[[7,8,9],[10,11,12]]])\n",
    "print(a.ndim)\n",
    "print(b.ndim)\n",
    "print(c.ndim)\n",
    "print(d.ndim)"
   ]
  },
  {
   "cell_type": "code",
   "execution_count": 112,
   "id": "01c076d3",
   "metadata": {},
   "outputs": [
    {
     "name": "stdout",
     "output_type": "stream",
     "text": [
      "[[[1 2 3 4 5]]]\n",
      "3\n"
     ]
    }
   ],
   "source": [
    "arr = np.array([1,2,3,4,5], ndmin = 3)\n",
    "print(arr)\n",
    "print(arr.ndim)"
   ]
  },
  {
   "cell_type": "code",
   "execution_count": 113,
   "id": "3468acd5",
   "metadata": {},
   "outputs": [
    {
     "name": "stdout",
     "output_type": "stream",
     "text": [
      "[[[[[10 20 30 40 60]]]]]\n",
      "5\n"
     ]
    }
   ],
   "source": [
    "arr = np.array([10,20,30,40,60], ndmin = 5)\n",
    "print(arr)\n",
    "print(arr.ndim)"
   ]
  },
  {
   "cell_type": "code",
   "execution_count": 1,
   "id": "1f69a66a",
   "metadata": {},
   "outputs": [
    {
     "data": {
      "text/plain": [
       "'1.25.2'"
      ]
     },
     "execution_count": 1,
     "metadata": {},
     "output_type": "execute_result"
    }
   ],
   "source": [
    "import numpy as np\n",
    "np.__version__"
   ]
  },
  {
   "cell_type": "code",
   "execution_count": 2,
   "id": "ecff3f5d",
   "metadata": {},
   "outputs": [
    {
     "name": "stdout",
     "output_type": "stream",
     "text": [
      "[11 22 33 44 55 66]\n",
      "<class 'numpy.ndarray'>\n"
     ]
    }
   ],
   "source": [
    "arr = np.array([11,22,33,44,55,66])\n",
    "print(arr)\n",
    "print(type(arr))"
   ]
  },
  {
   "cell_type": "code",
   "execution_count": 3,
   "id": "77aba17a",
   "metadata": {},
   "outputs": [
    {
     "name": "stdout",
     "output_type": "stream",
     "text": [
      "[1 2 3 4 5 6]\n",
      "<class 'numpy.ndarray'>\n"
     ]
    }
   ],
   "source": [
    "l = [1,2,3,4,5,6]\n",
    "arr = np.array(l)\n",
    "print(arr)\n",
    "print(type(arr))\n"
   ]
  },
  {
   "cell_type": "code",
   "execution_count": 10,
   "id": "48cb73fb",
   "metadata": {},
   "outputs": [
    {
     "name": "stdout",
     "output_type": "stream",
     "text": [
      "[1 2 3 4 5]\n",
      "1\n",
      "5\n"
     ]
    }
   ],
   "source": [
    "arr = np.array([1,2,3,4,5])\n",
    "print(arr)\n",
    "print(arr.ndim)\n",
    "print(arr[4])"
   ]
  },
  {
   "cell_type": "code",
   "execution_count": 9,
   "id": "a0bc4366",
   "metadata": {},
   "outputs": [
    {
     "name": "stdout",
     "output_type": "stream",
     "text": [
      "20\n",
      "0\n"
     ]
    }
   ],
   "source": [
    "arr = np.array(20)\n",
    "print(arr)\n",
    "print(arr.ndim)"
   ]
  },
  {
   "cell_type": "code",
   "execution_count": 19,
   "id": "7d1b6f8d",
   "metadata": {},
   "outputs": [
    {
     "name": "stdout",
     "output_type": "stream",
     "text": [
      "[[1 2 3]\n",
      " [4 5 6]]\n",
      "2\n",
      "[[1 2 3]\n",
      " [4 5 6]]\n",
      "[1 2 3]\n",
      "[4 5 6]\n",
      "3\n",
      "6\n",
      "1\n",
      "5\n"
     ]
    }
   ],
   "source": [
    "arr = ([[1,2,3],[4,5,6]])\n",
    "ar = np.array(arr)\n",
    "print(ar)\n",
    "print(ar.ndim)\n",
    "print(ar)\n",
    "print(ar[0])\n",
    "print(ar[1])\n",
    "print(ar[0][2])\n",
    "print(ar[1][2])\n",
    "print(ar[0,0])\n",
    "print(ar[1,1])"
   ]
  },
  {
   "cell_type": "code",
   "execution_count": 28,
   "id": "077baa4f",
   "metadata": {},
   "outputs": [
    {
     "name": "stdout",
     "output_type": "stream",
     "text": [
      "[[[ 11  22  33]\n",
      "  [ 44  55  66]]\n",
      "\n",
      " [[ 77  88  99]\n",
      "  [100 101 102]]]\n",
      "3\n",
      "[[11 22 33]\n",
      " [44 55 66]]\n",
      "[[ 77  88  99]\n",
      " [100 101 102]]\n",
      "[11 22 33]\n",
      "66\n",
      "88\n",
      "22\n",
      "66\n"
     ]
    }
   ],
   "source": [
    "arr = ([[[11,22,33],[44,55,66]],[[77,88,99],[100,101,102]]])\n",
    "ar = np.array(arr)\n",
    "print(ar)\n",
    "print(ar.ndim)\n",
    "print(ar[0])\n",
    "print(ar[1])\n",
    "print(ar[0][0])\n",
    "print(ar[0][1][2])\n",
    "print(ar[1][0][1])\n",
    "print(ar[0,0,1])\n",
    "print(ar[0,1,2])"
   ]
  },
  {
   "cell_type": "code",
   "execution_count": 29,
   "id": "6e4e9cfe",
   "metadata": {},
   "outputs": [
    {
     "name": "stdout",
     "output_type": "stream",
     "text": [
      "0\n",
      "1\n",
      "2\n",
      "3\n"
     ]
    }
   ],
   "source": [
    "a = np.array(100)\n",
    "b = np.array([11,22,33,44,55])\n",
    "c = np.array([[1,2,3],[4,5,6]])\n",
    "d = np.array([[[10,20,30],[40,50,60]],[[70,80,90],[100,110,120]]])\n",
    "print(a.ndim)\n",
    "print(b.ndim)\n",
    "print(c.ndim)\n",
    "print(d.ndim)"
   ]
  },
  {
   "cell_type": "code",
   "execution_count": 30,
   "id": "ba4820cc",
   "metadata": {},
   "outputs": [
    {
     "name": "stdout",
     "output_type": "stream",
     "text": [
      "[[[[1 2 3 4 5]]]]\n",
      "4\n"
     ]
    }
   ],
   "source": [
    "arr = np.array([1,2,3,4,5], ndmin = 4)\n",
    "print(arr)\n",
    "print(arr.ndim)"
   ]
  },
  {
   "cell_type": "markdown",
   "id": "30b2de3e",
   "metadata": {},
   "source": [
    "### Numpy Array Slicing"
   ]
  },
  {
   "cell_type": "code",
   "execution_count": 35,
   "id": "edfa6f31",
   "metadata": {},
   "outputs": [
    {
     "name": "stdout",
     "output_type": "stream",
     "text": [
      "[1 2 3 4 5 6 7]\n",
      "7\n",
      "[1 2 3 4 5 6 7]\n",
      "[5 6 7]\n"
     ]
    }
   ],
   "source": [
    "import numpy as np\n",
    "arr = np.array([1,2,3,4,5,6,7])\n",
    "print(arr)\n",
    "print(len(arr))\n",
    "print(arr[0:7])\n",
    "print(arr[4:])"
   ]
  },
  {
   "cell_type": "markdown",
   "id": "944adab1",
   "metadata": {},
   "source": [
    "### nagetive indicies"
   ]
  },
  {
   "cell_type": "code",
   "execution_count": 39,
   "id": "2d061b9c",
   "metadata": {},
   "outputs": [
    {
     "name": "stdout",
     "output_type": "stream",
     "text": [
      "[1 2 3 4 5 6 7 8]\n",
      "8\n",
      "1\n",
      "[5 6]\n",
      "[]\n"
     ]
    }
   ],
   "source": [
    "arr =np.array([1,2,3,4,5,6,7,8])\n",
    "print(arr)\n",
    "print(arr[-1])\n",
    "print(arr[-8])\n",
    "print(arr[-4:-2])\n",
    "print(arr[-2:-5])"
   ]
  },
  {
   "cell_type": "markdown",
   "id": "1e58d3df",
   "metadata": {},
   "source": [
    "### step value"
   ]
  },
  {
   "cell_type": "code",
   "execution_count": 45,
   "id": "6b4dd9da",
   "metadata": {},
   "outputs": [
    {
     "name": "stdout",
     "output_type": "stream",
     "text": [
      "[1 2 3 4 5 6 7 8]\n",
      "[1 4 7]\n",
      "[1 3 5 7]\n",
      "[1 3 5]\n",
      "[1 3 5]\n"
     ]
    }
   ],
   "source": [
    "print(arr)\n",
    "print(arr[0:7:3])\n",
    "print(arr[::2])\n",
    "print(arr[:6:2])\n",
    "print(arr[0:6:2])"
   ]
  },
  {
   "cell_type": "markdown",
   "id": "8f0fc455",
   "metadata": {},
   "source": [
    "### 2 - D Array"
   ]
  },
  {
   "cell_type": "code",
   "execution_count": 71,
   "id": "e716eca3",
   "metadata": {},
   "outputs": [
    {
     "name": "stdout",
     "output_type": "stream",
     "text": [
      "[[ 1  2  3  4  5]\n",
      " [ 6  7  8  9 10]]\n",
      "[1 2 3 4 5]\n",
      "[ 6  7  8  9 10]\n",
      "8\n",
      "[7 8]\n",
      "4\n",
      "[[1 2 3 4]]\n"
     ]
    }
   ],
   "source": [
    "arr = np.array([[1,2,3,4,5],[6,7,8,9,10]])\n",
    "print(arr)\n",
    "print(arr[0])\n",
    "print(arr[1])\n",
    "print(arr[1,2])\n",
    "print(arr[1, 1:3])\n",
    "print(arr[0,3])\n",
    "print(arr[0:1,0:4])"
   ]
  },
  {
   "cell_type": "code",
   "execution_count": 55,
   "id": "f74696a2",
   "metadata": {},
   "outputs": [
    {
     "name": "stdout",
     "output_type": "stream",
     "text": [
      "[[ 1  2  3  4  5]\n",
      " [ 6  7  8  9 10]]\n",
      "[[1 2 3]\n",
      " [6 7 8]]\n"
     ]
    }
   ],
   "source": [
    "print(arr)\n",
    "print(arr[0:2,0:3])"
   ]
  },
  {
   "cell_type": "code",
   "execution_count": 70,
   "id": "9a3e74d7",
   "metadata": {},
   "outputs": [
    {
     "name": "stdout",
     "output_type": "stream",
     "text": [
      "[[ 1  2  3  4  5]\n",
      " [10 20 30 40 50]\n",
      " [11 22 33 44 55]]\n",
      "[[ 1  2  3]\n",
      " [10 20 30]]\n",
      "[[ 1  2]\n",
      " [10 20]]\n"
     ]
    }
   ],
   "source": [
    "print(arr)\n",
    "print(arr[0:2,0:3])\n",
    "print(arr[0:2,0:2])"
   ]
  },
  {
   "cell_type": "markdown",
   "id": "7d174c0c",
   "metadata": {},
   "source": [
    "### 3 - D array slicing"
   ]
  },
  {
   "cell_type": "code",
   "execution_count": 73,
   "id": "d8def87e",
   "metadata": {},
   "outputs": [
    {
     "name": "stdout",
     "output_type": "stream",
     "text": [
      "[[ 1  2  3  4  5]\n",
      " [10 20 30 40 50]\n",
      " [11 22 33 44 55]]\n",
      "15\n",
      "(3, 5)\n",
      "[[ 2  3]\n",
      " [20 30]]\n",
      "[[2 3]]\n"
     ]
    }
   ],
   "source": [
    "arr = np.array([[1,2,3,4,5],[10,20,30,40,50],[11,22,33,44,55]])\n",
    "print(arr)\n",
    "print(arr.size)\n",
    "print(arr.shape)\n",
    "print(arr[0:2,1:3])\n",
    "print(arr[0:1,1:3])"
   ]
  },
  {
   "cell_type": "markdown",
   "id": "00603f92",
   "metadata": {},
   "source": [
    "### numpy array silcing"
   ]
  },
  {
   "cell_type": "code",
   "execution_count": 88,
   "id": "0f81c5a6",
   "metadata": {},
   "outputs": [
    {
     "name": "stdout",
     "output_type": "stream",
     "text": [
      "[1 2 3 4 5 6 7 8 9]\n",
      "9\n",
      "[1 2 3 4]\n",
      "[1 2 3 4 5 6]\n",
      "[1 2 3 4 5]\n",
      "[1 2 3]\n",
      "[4 5 6 7 8 9]\n",
      "6\n",
      "9\n",
      "[5 6 7 8]\n",
      "[4 5 6 7 8]\n",
      "[9]\n",
      "[2 3 4 5 6 7]\n",
      "[8]\n"
     ]
    }
   ],
   "source": [
    "arr = np.array([1,2,3,4,5,6,7,8,9])\n",
    "print(arr)\n",
    "print(len(arr))\n",
    "print(arr[0:4])\n",
    "print(arr[0:6])\n",
    "print(arr[:5])\n",
    "print(arr[:3])\n",
    "print(arr[3:])\n",
    "print(arr[-4])\n",
    "print(arr[-1])\n",
    "print(arr[-5:-1])\n",
    "print(arr[-6:-1])\n",
    "print(arr[-1:])\n",
    "print(arr[-8:-2])\n",
    "print(arr[-2:-1])"
   ]
  },
  {
   "cell_type": "markdown",
   "id": "5887cf7a",
   "metadata": {},
   "source": [
    "### step value"
   ]
  },
  {
   "cell_type": "code",
   "execution_count": 109,
   "id": "0169a8fc",
   "metadata": {},
   "outputs": [
    {
     "name": "stdout",
     "output_type": "stream",
     "text": [
      "[1 2 3 4 5 6 7 8 9]\n",
      "[1 3 5 7 9]\n",
      "[2 5]\n",
      "[5 7]\n",
      "[2 8]\n",
      "[1]\n",
      "[1 3 5]\n",
      "[1 3 5 7 9]\n",
      "[1 5 9]\n",
      "[1 2 3]\n",
      "[1 2 3]\n",
      "[2 3 4]\n",
      "[6 7]\n",
      "[3 4]\n",
      "[8 9]\n"
     ]
    }
   ],
   "source": [
    "print(arr)\n",
    "print(arr[0:9:2])\n",
    "print(arr[1:6:3])\n",
    "print(arr[4:8:2])\n",
    "print(arr[1:8:6])\n",
    "print(arr[0:8:8])\n",
    "print(arr[:6:2])\n",
    "print(arr[: : 2])\n",
    "print(arr[::4])\n",
    "print(arr[:3:1])\n",
    "print(arr[0:3:1])\n",
    "print(arr[1:4:])\n",
    "print(arr[5:7:1])\n",
    "print(arr[2:4:1])\n",
    "print(arr[7:9:1])"
   ]
  },
  {
   "cell_type": "markdown",
   "id": "b9fde07e",
   "metadata": {},
   "source": [
    "### slicing 2 - D Array"
   ]
  },
  {
   "cell_type": "code",
   "execution_count": 124,
   "id": "506b8527",
   "metadata": {},
   "outputs": [
    {
     "name": "stdout",
     "output_type": "stream",
     "text": [
      "[[ 11  22  33  44  55]\n",
      " [ 66  77  88  99 100]]\n",
      "[11 22 33 44 55]\n",
      "[ 66  77  88  99 100]\n",
      "88\n",
      "[11 22 33]\n",
      "[66 77 88 99]\n",
      "[[11 22 33]]\n",
      "[[ 66  77  88  99 100]\n",
      " [ 11  22  33  44  55]]\n"
     ]
    }
   ],
   "source": [
    "arr = np.array([[11,22,33,44,55],[66,77,88,99,100]])\n",
    "print(arr)\n",
    "print(arr[0])\n",
    "print(arr[1])\n",
    "print(arr[1,2])\n",
    "print(arr[0,0:3])\n",
    "print(arr[1,0:4])\n",
    "print(arr[0:1,0:3])\n",
    "print(arr[::-1])\n"
   ]
  },
  {
   "cell_type": "markdown",
   "id": "ecd47c60",
   "metadata": {},
   "source": [
    "### 2 - D Array"
   ]
  },
  {
   "cell_type": "code",
   "execution_count": 156,
   "id": "76cb8225",
   "metadata": {},
   "outputs": [
    {
     "name": "stdout",
     "output_type": "stream",
     "text": [
      "[[ 1  2  3  4]\n",
      " [ 5  6  7  8]\n",
      " [ 9 10 11 12]\n",
      " [13 14 15 16]]\n",
      "2\n",
      "[[1 2 3 4]]\n",
      "[[1 2 3 4]]\n",
      "[[1 2 3]\n",
      " [5 6 7]]\n",
      "[[ 6  7]\n",
      " [10 11]]\n",
      "[[ 5  6  7  8]\n",
      " [ 9 10 11 12]]\n",
      "[[ 9 10 11 12]]\n",
      "[[ 5  6]\n",
      " [ 9 10]]\n",
      "[[5]\n",
      " [9]]\n",
      "[[ 2  3]\n",
      " [ 6  7]\n",
      " [10 11]\n",
      " [14 15]]\n",
      "[ 6 10]\n",
      "[3 7]\n",
      "[ 3  7 11]\n",
      "[[5]\n",
      " [9]]\n",
      "[ 6 10]\n"
     ]
    }
   ],
   "source": [
    "import numpy as np\n",
    "ar = ([[1,2,3,4],[5,6,7,8],[9,10,11,12],[13,14,15,16]])\n",
    "arr = np.array(ar)\n",
    "print(arr)\n",
    "print(arr.ndim)\n",
    "print(arr[:1])\n",
    "print(arr[:-3])\n",
    "print(arr[0:2,0:3])\n",
    "print(arr[1:3,1:3])\n",
    "print(arr[1:3,])\n",
    "print(arr[2:-1])\n",
    "print(arr[1:3,0:2])\n",
    "print(arr[1:3,0:1])\n",
    "print(arr[:,1:3])\n",
    "print(arr[1:3,1])\n",
    "print(arr[0:2,2])\n",
    "print(arr[0:3,2])\n",
    "print(arr[1:3,:1])\n",
    "print(arr[1:3,1])"
   ]
  },
  {
   "cell_type": "markdown",
   "id": "ae662072",
   "metadata": {},
   "source": [
    "### 3 - D Array"
   ]
  },
  {
   "cell_type": "code",
   "execution_count": 197,
   "id": "c1373786",
   "metadata": {},
   "outputs": [
    {
     "name": "stdout",
     "output_type": "stream",
     "text": [
      "[[[ 10  20  30]\n",
      "  [ 40  50  60]\n",
      "  [ 70  80  90]\n",
      "  [100 110 120]]]\n",
      "[[ 10  20  30]\n",
      " [ 40  50  60]\n",
      " [ 70  80  90]\n",
      " [100 110 120]]\n",
      "[40 50 60]\n",
      "60\n",
      "[[[ 10  20  30]\n",
      "  [ 40  50  60]\n",
      "  [ 70  80  90]\n",
      "  [100 110 120]]]\n",
      "[[40 50 60]]\n",
      "[[70 80 90]]\n",
      "[[[ 10  20  30]\n",
      "  [ 40  50  60]\n",
      "  [ 70  80  90]\n",
      "  [100 110 120]]]\n",
      "[100 110 120]\n",
      "20\n",
      "[[[ 10  20  30]\n",
      "  [ 40  50  60]\n",
      "  [ 70  80  90]\n",
      "  [100 110 120]]]\n",
      "50\n",
      "[[[ 10  20  30]\n",
      "  [ 40  50  60]\n",
      "  [ 70  80  90]\n",
      "  [100 110 120]]]\n",
      "[[[ 10  20  30]\n",
      "  [ 40  50  60]\n",
      "  [ 70  80  90]\n",
      "  [100 110 120]]]\n",
      "[[[ 10  20  30]\n",
      "  [ 40  50  60]\n",
      "  [ 70  80  90]\n",
      "  [100 110 120]]]\n",
      "[[[ 10  20  30]\n",
      "  [ 40  50  60]\n",
      "  [ 70  80  90]\n",
      "  [100 110 120]]]\n",
      "[[[ 10  20  30]\n",
      "  [ 40  50  60]\n",
      "  [ 70  80  90]\n",
      "  [100 110 120]]]\n",
      "[[[10 20 30]\n",
      "  [40 50 60]]]\n",
      "[[[10 20 30]\n",
      "  [40 50 60]]]\n"
     ]
    }
   ],
   "source": [
    "ar = ([[[10,20,30],[40,50,60],[70,80,90],[100,110,120]]])\n",
    "arr = np.array(ar)\n",
    "print(arr)\n",
    "print(arr[0])\n",
    "print(arr[0,1])\n",
    "print(arr[0,1,2])\n",
    "print(arr[0:1])\n",
    "print(arr[0:2,1])\n",
    "print(arr[0:3,2])\n",
    "print(arr[0:3])\n",
    "print(arr[0,3])\n",
    "print(arr[0,0,1])\n",
    "print(arr[0:3])\n",
    "print(arr[0,1,1])\n",
    "print(arr[0:1:2])\n",
    "print(arr[0:1:2])\n",
    "print(arr[0:1:1])\n",
    "print(arr[0:1])\n",
    "print(arr[0:1])\n",
    "print(arr[0:2,0:2])\n",
    "print(arr[:1,0:2])"
   ]
  },
  {
   "cell_type": "markdown",
   "id": "9c4eaa48",
   "metadata": {},
   "source": [
    "### date types numpy array"
   ]
  },
  {
   "cell_type": "code",
   "execution_count": 5,
   "id": "ead1952a",
   "metadata": {},
   "outputs": [
    {
     "name": "stdout",
     "output_type": "stream",
     "text": [
      "[11 22 33 44]\n",
      "int32\n",
      "['aa' 'bb' 'cc']\n",
      "<U2\n",
      "['apple' 'kiwi' 'lemon' 'mango']\n",
      "<U5\n",
      "['blue' 'pink' 'red' 'grey']\n",
      "<U4\n"
     ]
    }
   ],
   "source": [
    "import numpy as np\n",
    "# int\n",
    "arr = np.array([11,22,33,44])\n",
    "print(arr)\n",
    "print(arr.dtype)\n",
    "# string\n",
    "arr = np.array(['aa','bb','cc'])\n",
    "print(arr)\n",
    "print(arr.dtype)\n",
    "arr = np.array(['apple','kiwi','lemon','mango'])\n",
    "print(arr)\n",
    "print(arr.dtype)\n",
    "arr = np.array(['blue','pink','red','grey'])\n",
    "print(arr)\n",
    "print(arr.dtype)"
   ]
  },
  {
   "cell_type": "code",
   "execution_count": 18,
   "id": "159b96b7",
   "metadata": {},
   "outputs": [
    {
     "name": "stdout",
     "output_type": "stream",
     "text": [
      "[1 2 3 4]\n",
      "int32\n",
      "[11. 22. 33. 44.]\n",
      "float64\n",
      "[1. 2. 3. 4. 5. 6.]\n",
      "float32\n",
      "[1 2 3 4 5]\n",
      "int32\n",
      "[11. 22. 33. 44.]\n",
      "float32\n",
      "[1 2 3]\n",
      "int32\n"
     ]
    }
   ],
   "source": [
    "### creting array with a defined data type\n",
    "arr = np.array([1,2,3,4], dtype = 'i')\n",
    "print(arr)\n",
    "print(arr.dtype)\n",
    "arr = np.array([11,22,33,44],dtype = 'float')\n",
    "print(arr)\n",
    "print(arr.dtype)\n",
    "arr = np.array([1,2,3,4,5,6],dtype = 'f')\n",
    "print(arr)\n",
    "print(arr.dtype)\n",
    "arr = np.array([1,2,3,4,5],dtype = 'i4')\n",
    "print(arr)\n",
    "print(arr.dtype)\n",
    "arr = np.array([11,22,33,44],dtype = 'f4')\n",
    "print(arr)\n",
    "print(arr.dtype)\n",
    "arr = np.array(['1','2','3'],dtype = 'int')\n",
    "print(arr)\n",
    "print(arr.dtype)"
   ]
  },
  {
   "cell_type": "markdown",
   "id": "aa11e1ef",
   "metadata": {},
   "source": [
    "### float to int"
   ]
  },
  {
   "cell_type": "code",
   "execution_count": 20,
   "id": "e31ba73c",
   "metadata": {},
   "outputs": [
    {
     "name": "stdout",
     "output_type": "stream",
     "text": [
      "[1.1 2.2 3.3 4.4 5.5]\n",
      "[1 2 3 4 5]\n",
      "int32\n"
     ]
    }
   ],
   "source": [
    "# float to int\n",
    "arr = np.array([1.1,2.2,3.3,4.4,5.5])\n",
    "newarr = arr.astype('i')\n",
    "print(arr)\n",
    "print(newarr)\n",
    "print(newarr.dtype)"
   ]
  },
  {
   "cell_type": "code",
   "execution_count": 22,
   "id": "be38b867",
   "metadata": {},
   "outputs": [
    {
     "name": "stdout",
     "output_type": "stream",
     "text": [
      "[1 0 3]\n",
      "[ True False  True]\n",
      "bool\n"
     ]
    }
   ],
   "source": [
    "# int to bool\n",
    "arr = np.array([1,0,3])\n",
    "newarr = arr.astype('bool')\n",
    "print(arr)\n",
    "print(newarr)\n",
    "print(newarr.dtype)"
   ]
  },
  {
   "cell_type": "markdown",
   "id": "257d4b8d",
   "metadata": {},
   "source": [
    "### copy"
   ]
  },
  {
   "cell_type": "code",
   "execution_count": 25,
   "id": "a6dad5b9",
   "metadata": {},
   "outputs": [
    {
     "name": "stdout",
     "output_type": "stream",
     "text": [
      "[1 2 3 4 5]\n",
      "[ 1 20  3  4  5]\n",
      "[1 2 3 4 5]\n"
     ]
    }
   ],
   "source": [
    "arr = np.array([1,2,3,4,5])\n",
    "x = arr.copy()\n",
    "print(x)\n",
    "x[1] = 20\n",
    "print(x)\n",
    "print(arr)"
   ]
  },
  {
   "cell_type": "code",
   "execution_count": 27,
   "id": "9676105c",
   "metadata": {},
   "outputs": [
    {
     "name": "stdout",
     "output_type": "stream",
     "text": [
      "[11 22 33 44]\n",
      "[ 11 100  33  44]\n",
      "[ 11 100  33  44]\n"
     ]
    }
   ],
   "source": [
    "arr = np.array([11,22,33,44])\n",
    "x = arr.view()\n",
    "\n",
    "print(x)\n",
    "x[1] = 100\n",
    "print(x)\n",
    "print(arr)\n"
   ]
  },
  {
   "cell_type": "code",
   "execution_count": 28,
   "id": "59b35b69",
   "metadata": {},
   "outputs": [
    {
     "name": "stdout",
     "output_type": "stream",
     "text": [
      "None\n",
      "[1 2 3 4 5 6]\n"
     ]
    }
   ],
   "source": [
    "arr = np.array([1,2,3,4,5,6])\n",
    "a = arr.copy()\n",
    "b = arr.view()\n",
    "print(a.base)\n",
    "print(b.base)"
   ]
  },
  {
   "cell_type": "markdown",
   "id": "8137067b",
   "metadata": {},
   "source": [
    "### numpy array"
   ]
  },
  {
   "cell_type": "code",
   "execution_count": 29,
   "id": "ef779cd5",
   "metadata": {},
   "outputs": [
    {
     "name": "stdout",
     "output_type": "stream",
     "text": [
      "[1 2 3 4 5]\n",
      "<class 'numpy.ndarray'>\n"
     ]
    }
   ],
   "source": [
    "arr = np.array([1,2,3,4,5])\n",
    "print(arr)\n",
    "print(type(arr))"
   ]
  },
  {
   "cell_type": "code",
   "execution_count": 30,
   "id": "87f37b5f",
   "metadata": {},
   "outputs": [
    {
     "name": "stdout",
     "output_type": "stream",
     "text": [
      "[11 22 33 44 55 66 77 88]\n",
      "<class 'numpy.ndarray'>\n"
     ]
    }
   ],
   "source": [
    "ar = ([11,22,33,44,55,66,77,88])\n",
    "arr = np.array(ar)\n",
    "print(arr)\n",
    "print(type(arr))"
   ]
  },
  {
   "cell_type": "code",
   "execution_count": 32,
   "id": "65f736bb",
   "metadata": {},
   "outputs": [
    {
     "name": "stdout",
     "output_type": "stream",
     "text": [
      "[1 2 3 4 5]\n",
      "<class 'numpy.ndarray'>\n",
      "1\n"
     ]
    }
   ],
   "source": [
    "arr =(1,2,3,4,5)\n",
    "ar = np.array(arr)\n",
    "print(ar)\n",
    "print(type(ar))\n",
    "print(ar.ndim)"
   ]
  },
  {
   "cell_type": "code",
   "execution_count": 33,
   "id": "c1135afc",
   "metadata": {},
   "outputs": [
    {
     "name": "stdout",
     "output_type": "stream",
     "text": [
      "10\n",
      "0\n"
     ]
    }
   ],
   "source": [
    "arr =np.array(10)\n",
    "print(arr)\n",
    "print(arr.ndim)"
   ]
  },
  {
   "cell_type": "code",
   "execution_count": 41,
   "id": "bbe575be",
   "metadata": {},
   "outputs": [
    {
     "name": "stdout",
     "output_type": "stream",
     "text": [
      "[1 2 3 4 5 6]\n",
      "1\n",
      "3\n",
      "6\n",
      "[1 2 3 4]\n",
      "[2 3 4 5]\n"
     ]
    }
   ],
   "source": [
    "arr = np.array([1,2,3,4,5,6])\n",
    "print(arr)\n",
    "print(arr.ndim)\n",
    "print(arr[2])\n",
    "print(arr[5])\n",
    "print(arr[0:4])\n",
    "print(arr[1:5])\n"
   ]
  },
  {
   "cell_type": "code",
   "execution_count": 59,
   "id": "be0acba5",
   "metadata": {},
   "outputs": [
    {
     "name": "stdout",
     "output_type": "stream",
     "text": [
      "[[ 1  2  3  4]\n",
      " [ 5  6  7  8]\n",
      " [ 9 10 11 12]]\n",
      "<class 'numpy.ndarray'>\n",
      "2\n",
      "[1 2 3 4]\n",
      "[5 6 7 8]\n",
      "8\n",
      "7\n",
      "[[1 2 3 4]\n",
      " [5 6 7 8]]\n",
      "[[ 2  3]\n",
      " [ 6  7]\n",
      " [10 11]]\n",
      "12\n",
      "[[ 3]\n",
      " [ 7]\n",
      " [11]]\n"
     ]
    }
   ],
   "source": [
    "arr = np.array([[1,2,3,4],[5,6,7,8],[9,10,11,12]])\n",
    "print(arr)\n",
    "print(type(arr))\n",
    "print(arr.ndim)\n",
    "print(arr[0])\n",
    "print(arr[1])\n",
    "print(arr[1][3])\n",
    "print(arr[1,2])\n",
    "print(arr[0:2])\n",
    "print(arr[0:3,1:3])\n",
    "print(arr[2,3])\n",
    "print(arr[0:3,2:3])\n"
   ]
  },
  {
   "cell_type": "code",
   "execution_count": 74,
   "id": "5821bc6d",
   "metadata": {},
   "outputs": [
    {
     "name": "stdout",
     "output_type": "stream",
     "text": [
      "[[[ 1  2  3  4]\n",
      "  [ 5  6  7  8]]\n",
      "\n",
      " [[ 9 10 11 12]\n",
      "  [13 14 15 16]]]\n",
      "3\n",
      "[[1 2 3 4]\n",
      " [5 6 7 8]]\n",
      "[[ 9 10 11 12]\n",
      " [13 14 15 16]]\n",
      "[5 6 7 8]\n",
      "[ 9 10 11 12]\n",
      "[13 14 15 16]\n"
     ]
    }
   ],
   "source": [
    "arr = np.array([[[1,2,3,4],[5,6,7,8]],[[9,10,11,12],[13,14,15,16]]])\n",
    "print(arr)\n",
    "print(arr.ndim)\n",
    "print(arr[0])\n",
    "print(arr[1])\n",
    "print(arr[0,1])\n",
    "print(arr[1,0])\n",
    "print(arr[1,1])\n",
    "print(arr[0:3,])"
   ]
  },
  {
   "cell_type": "code",
   "execution_count": 75,
   "id": "16e9c91d",
   "metadata": {},
   "outputs": [
    {
     "name": "stdout",
     "output_type": "stream",
     "text": [
      "[1 2 3 4]\n",
      "int32\n"
     ]
    }
   ],
   "source": [
    "arr = np.array([1,2,3,4])\n",
    "print(arr)\n",
    "print(arr.dtype)"
   ]
  },
  {
   "cell_type": "code",
   "execution_count": 76,
   "id": "f615b776",
   "metadata": {},
   "outputs": [
    {
     "name": "stdout",
     "output_type": "stream",
     "text": [
      "[1.1 1.2 1.3 1.4]\n",
      "float64\n"
     ]
    }
   ],
   "source": [
    "arr =np.array([1.1,1.2,1.3,1.4])\n",
    "print(arr)\n",
    "print(arr.dtype)"
   ]
  },
  {
   "cell_type": "code",
   "execution_count": 77,
   "id": "b15ba8fb",
   "metadata": {},
   "outputs": [
    {
     "name": "stdout",
     "output_type": "stream",
     "text": [
      "['apple' 'kiwi' 'lemon' 'grey']\n",
      "<U5\n"
     ]
    }
   ],
   "source": [
    "arr = np.array(['apple','kiwi','lemon','grey'])\n",
    "print(arr)\n",
    "print(arr.dtype)"
   ]
  },
  {
   "cell_type": "code",
   "execution_count": 78,
   "id": "662234dd",
   "metadata": {},
   "outputs": [
    {
     "name": "stdout",
     "output_type": "stream",
     "text": [
      "['aa' 'bb' 'cc']\n",
      "<U2\n"
     ]
    }
   ],
   "source": [
    "arr = np.array(['aa','bb','cc'])\n",
    "print(arr)\n",
    "print(arr.dtype)"
   ]
  },
  {
   "cell_type": "code",
   "execution_count": 80,
   "id": "11686710",
   "metadata": {},
   "outputs": [
    {
     "name": "stdout",
     "output_type": "stream",
     "text": [
      "[1 2 3 4]\n",
      "int32\n"
     ]
    }
   ],
   "source": [
    "arr = np.array([1,2,3,4], dtype = 'i')\n",
    "print(arr)\n",
    "print(arr.dtype)"
   ]
  },
  {
   "cell_type": "code",
   "execution_count": 81,
   "id": "5ad84432",
   "metadata": {},
   "outputs": [
    {
     "name": "stdout",
     "output_type": "stream",
     "text": [
      "[1.2 2.2 3.4 5.6]\n",
      "float32\n"
     ]
    }
   ],
   "source": [
    "arr = np.array([1.2,2.2,3.4,5.6], dtype = 'f')\n",
    "print(arr)\n",
    "print(arr.dtype)"
   ]
  },
  {
   "cell_type": "code",
   "execution_count": 82,
   "id": "0611afcd",
   "metadata": {},
   "outputs": [
    {
     "name": "stdout",
     "output_type": "stream",
     "text": [
      "[1 2 3 4 5]\n",
      "int32\n"
     ]
    }
   ],
   "source": [
    "arr = np.array([1,2,3,4,5],dtype = 'i4')\n",
    "print(arr)\n",
    "print(arr.dtype)"
   ]
  },
  {
   "cell_type": "code",
   "execution_count": 83,
   "id": "baeec3c1",
   "metadata": {},
   "outputs": [
    {
     "name": "stdout",
     "output_type": "stream",
     "text": [
      "[1 2 3]\n",
      "int32\n"
     ]
    }
   ],
   "source": [
    "arr = np.array(['1','2','3'],dtype = 'i')\n",
    "print(arr)\n",
    "print(arr.dtype)"
   ]
  },
  {
   "cell_type": "code",
   "execution_count": 87,
   "id": "f092e73b",
   "metadata": {},
   "outputs": [
    {
     "name": "stdout",
     "output_type": "stream",
     "text": [
      "[11 22 33 44]\n",
      "int32\n"
     ]
    }
   ],
   "source": [
    "arr = np.array(['11','22','33','44'],dtype = 'i4')\n",
    "print(arr)\n",
    "print(arr.dtype)"
   ]
  },
  {
   "cell_type": "code",
   "execution_count": 88,
   "id": "e3e774d4",
   "metadata": {},
   "outputs": [
    {
     "name": "stdout",
     "output_type": "stream",
     "text": [
      "[1.1 1.2 1.3 1.4]\n",
      "[1 1 1 1]\n",
      "int32\n"
     ]
    }
   ],
   "source": [
    "arr = np.array([1.1,1.2,1.3,1.4])\n",
    "newarr = arr.astype('i')\n",
    "print(arr)\n",
    "print(newarr)\n",
    "print(newarr.dtype)"
   ]
  },
  {
   "cell_type": "code",
   "execution_count": 89,
   "id": "f1c47d1f",
   "metadata": {},
   "outputs": [
    {
     "name": "stdout",
     "output_type": "stream",
     "text": [
      "[11 22 33 44]\n",
      "[11. 22. 33. 44.]\n",
      "float32\n"
     ]
    }
   ],
   "source": [
    "arr = np.array([11,22,33,44])\n",
    "newarr = arr.astype('f')\n",
    "print(arr)\n",
    "print(newarr)\n",
    "print(newarr.dtype)"
   ]
  },
  {
   "cell_type": "code",
   "execution_count": 3,
   "id": "bad8e9bf",
   "metadata": {},
   "outputs": [
    {
     "name": "stdout",
     "output_type": "stream",
     "text": [
      "[1 0 3]\n",
      "[ True False  True]\n",
      "bool\n",
      "[1.1 0.  2.  3. ]\n",
      "[ True False  True  True]\n",
      "bool\n"
     ]
    }
   ],
   "source": [
    "import numpy as np\n",
    "arr = np.array([1,0,3])\n",
    "newarr = arr.astype('bool')\n",
    "print(arr)\n",
    "print(newarr)\n",
    "print(newarr.dtype)\n",
    "arr = np.array([1.1,0,2,3])\n",
    "newarr = arr.astype('bool')\n",
    "print(arr)\n",
    "print(newarr)\n",
    "\n",
    "print(newarr.dtype)"
   ]
  },
  {
   "cell_type": "markdown",
   "id": "95e8d623",
   "metadata": {},
   "source": [
    "### copy\n"
   ]
  },
  {
   "cell_type": "code",
   "execution_count": 4,
   "id": "7b704b5b",
   "metadata": {},
   "outputs": [
    {
     "name": "stdout",
     "output_type": "stream",
     "text": [
      "[ 1  2 20  4  5]\n",
      "[1 2 3 4 5]\n"
     ]
    }
   ],
   "source": [
    "arr = np.array([1,2,3,4,5])\n",
    "x = arr.copy()\n",
    "x[2]= 20\n",
    "print(x)\n",
    "print(arr)"
   ]
  },
  {
   "cell_type": "code",
   "execution_count": 5,
   "id": "5dd6c1b3",
   "metadata": {},
   "outputs": [
    {
     "name": "stdout",
     "output_type": "stream",
     "text": [
      "[  1 100   3   4   5]\n",
      "[  1 100   3   4   5]\n"
     ]
    }
   ],
   "source": [
    "arr = np.array([1,2,3,4,5])\n",
    "x = arr.view()\n",
    "x[1] = 100\n",
    "print(x)\n",
    "print(arr)"
   ]
  },
  {
   "cell_type": "code",
   "execution_count": 6,
   "id": "3613e067",
   "metadata": {},
   "outputs": [
    {
     "name": "stdout",
     "output_type": "stream",
     "text": [
      "None\n",
      "[1 2 3 4 5]\n"
     ]
    }
   ],
   "source": [
    "arr = np.array([1,2,3,4,5])\n",
    "x = arr.copy()\n",
    "y = arr.view()\n",
    "print(x.base)\n",
    "print(y.base)"
   ]
  },
  {
   "cell_type": "code",
   "execution_count": 7,
   "id": "27ab4839",
   "metadata": {},
   "outputs": [
    {
     "name": "stdout",
     "output_type": "stream",
     "text": [
      "[1 2 3 4 5]\n",
      "<class 'numpy.ndarray'>\n"
     ]
    }
   ],
   "source": [
    "arr = np.array([1,2,3,4,5])\n",
    "print(arr)\n",
    "print(type(arr))"
   ]
  },
  {
   "cell_type": "code",
   "execution_count": 9,
   "id": "2cc33e51",
   "metadata": {},
   "outputs": [
    {
     "name": "stdout",
     "output_type": "stream",
     "text": [
      "[11 22 33 44 55]\n",
      "<class 'numpy.ndarray'>\n",
      "1\n"
     ]
    }
   ],
   "source": [
    "arr = np.array([11,22,33,44,55])\n",
    "print(arr)\n",
    "print(type(arr))\n",
    "print(arr.ndim)"
   ]
  },
  {
   "cell_type": "code",
   "execution_count": 11,
   "id": "89a20fad",
   "metadata": {},
   "outputs": [
    {
     "name": "stdout",
     "output_type": "stream",
     "text": [
      "[1 2 3 4 5]\n",
      "1\n"
     ]
    }
   ],
   "source": [
    "arr = ([1,2,3,4,5])\n",
    "ar = np.array(arr)\n",
    "print(ar)\n",
    "print(ar.ndim)"
   ]
  },
  {
   "cell_type": "code",
   "execution_count": 12,
   "id": "a8cb493d",
   "metadata": {},
   "outputs": [
    {
     "name": "stdout",
     "output_type": "stream",
     "text": [
      "[1 2 3 4 5 6 7]\n",
      "1\n"
     ]
    }
   ],
   "source": [
    "l = (1,2,3,4,5,6,7)\n",
    "arr= np.array(l)\n",
    "print(arr)\n",
    "print(arr.ndim)"
   ]
  },
  {
   "cell_type": "code",
   "execution_count": 13,
   "id": "27f1d473",
   "metadata": {},
   "outputs": [
    {
     "name": "stdout",
     "output_type": "stream",
     "text": [
      "[10 20 30]\n",
      "<class 'numpy.ndarray'>\n",
      "1\n"
     ]
    }
   ],
   "source": [
    "tup = (10,20,30)\n",
    "ar = np.array(tup)\n",
    "print(ar)\n",
    "print(type(ar))\n",
    "print(ar.ndim)"
   ]
  },
  {
   "cell_type": "code",
   "execution_count": 69,
   "id": "0b08f5f5",
   "metadata": {},
   "outputs": [
    {
     "name": "stdout",
     "output_type": "stream",
     "text": [
      "10\n",
      "0\n",
      "[1 2 3 4 5]\n",
      "1\n",
      "2\n",
      "[1 2 3]\n",
      "5\n",
      "[2 3 4]\n",
      "[[11 22 33 44]\n",
      " [10 20 30 40]]\n",
      "2\n",
      "[11, 22, 33, 44]\n",
      "[10, 20, 30, 40]\n",
      "33\n",
      "44\n",
      "30\n",
      "([11, 22, 33, 44], [10, 20, 30, 40])\n",
      "([11, 22, 33, 44],)\n",
      "([11, 22, 33, 44], [10, 20, 30, 40])\n",
      "33\n",
      "[[ 1  2  3  4]\n",
      " [ 5  6  7  8]\n",
      " [ 9 10 11 12]\n",
      " [13 14 15 16]]\n",
      "2\n",
      "[1 2 3 4]\n",
      "[5 6 7 8]\n",
      "2\n",
      "[[1]\n",
      " [5]]\n",
      "[[2]\n",
      " [6]]\n",
      "[[[ 1  2  3  4]\n",
      "  [ 5  6  7  8]]\n",
      "\n",
      " [[ 9 10 11 12]\n",
      "  [13 14 15 16]]]\n",
      "3\n",
      "[[1 2 3 4]\n",
      " [5 6 7 8]]\n",
      "[[ 9 10 11 12]\n",
      " [13 14 15 16]]\n",
      "[1 2 3 4]\n",
      "16\n",
      "(2, 2, 4)\n",
      "[[[1 2 3 4]\n",
      "  [5 6 7 8]]]\n",
      "[[[1 2 3 4]\n",
      "  [5 6 7 8]]]\n",
      "[[[1 2 3 4]\n",
      "  [5 6 7 8]]]\n"
     ]
    }
   ],
   "source": [
    "# 0-d array\n",
    "arr = np.array(10)\n",
    "print(arr)\n",
    "print(arr.ndim)\n",
    "# 1-d array\n",
    "arr = np.array([1,2,3,4,5])\n",
    "print(arr)\n",
    "print(arr.ndim)\n",
    "print(arr[1])\n",
    "print(arr[0:3])\n",
    "print(arr[-1])\n",
    "print(arr[-4:-1])\n",
    "# 2 - d array\n",
    "arr = ([11,22,33,44,],[10,20,30,40])\n",
    "ar = np.array(arr)\n",
    "print(ar)\n",
    "print(ar.ndim)\n",
    "print(arr[0])\n",
    "print(arr[1])\n",
    "print(arr[0][2])\n",
    "print(arr[0][3])\n",
    "print(arr[1][2])\n",
    "print(arr[0:2])\n",
    "print(arr[0:1])\n",
    "print(arr[0:2])\n",
    "print(arr[0][2])\n",
    "# 2 -d array\n",
    "arr = ([1,2,3,4],[5,6,7,8],[9,10,11,12],[13,14,15,16])\n",
    "ar = np.array(arr)\n",
    "print(ar)\n",
    "print(ar.ndim)\n",
    "print(ar[0])\n",
    "print(ar[1])\n",
    "print(ar[0][1])\n",
    "print(ar[0:2,0:1])\n",
    "print(ar[0:2,1:2])\n",
    "# 3 - d array\n",
    "arr = ([[[1,2,3,4],[5,6,7,8]],[[9,10,11,12],[13,14,15,16]]])\n",
    "ar = np.array(arr)\n",
    "print(ar)\n",
    "print(ar.ndim)\n",
    "print(ar[0])\n",
    "print(ar[1])\n",
    "print(ar[0][0])\n",
    "print(ar.size)\n",
    "print(ar.shape)\n",
    "print(ar[::2])\n",
    "print(ar[:1])\n",
    "print(ar[-4:-1])"
   ]
  },
  {
   "cell_type": "code",
   "execution_count": 73,
   "id": "1f0852b6",
   "metadata": {},
   "outputs": [
    {
     "name": "stdout",
     "output_type": "stream",
     "text": [
      "[[[[[1 2 3 4 5]]]]]\n"
     ]
    }
   ],
   "source": [
    "arr = np.array([1,2,3,4,5],ndmin = 5)\n",
    "print(arr)\n"
   ]
  },
  {
   "cell_type": "code",
   "execution_count": 74,
   "id": "6710663c",
   "metadata": {},
   "outputs": [
    {
     "name": "stdout",
     "output_type": "stream",
     "text": [
      "[[[[[1 2 3 4 5]]]]]\n"
     ]
    }
   ],
   "source": [
    "print(arr)"
   ]
  },
  {
   "cell_type": "code",
   "execution_count": 75,
   "id": "ccd09ecc",
   "metadata": {},
   "outputs": [
    {
     "name": "stdout",
     "output_type": "stream",
     "text": [
      "[1 2 3 4 5 6 7 8]\n"
     ]
    }
   ],
   "source": [
    "arr = np.array([1,2,3,4,5,6,7,8])\n",
    "print(arr)"
   ]
  },
  {
   "cell_type": "code",
   "execution_count": 84,
   "id": "146dc4e9",
   "metadata": {},
   "outputs": [
    {
     "name": "stdout",
     "output_type": "stream",
     "text": [
      "[1 2 3 4 5 6 7 8]\n",
      "[1 2 3]\n",
      "[1 3]\n",
      "[1 3 5 7]\n",
      "[1 4 7]\n",
      "[1 3 5]\n",
      "[3 4 5]\n",
      "[2 4 6]\n"
     ]
    }
   ],
   "source": [
    "print(arr)\n",
    "print(arr[0:3])\n",
    "print(arr[0:4:2])\n",
    "print(arr[::2])\n",
    "print(arr[0::3])\n",
    "print(arr[:6:2])\n",
    "print(arr[2:5])\n",
    "print(arr[1:6:2])"
   ]
  },
  {
   "cell_type": "code",
   "execution_count": 112,
   "id": "a74c8d8a",
   "metadata": {},
   "outputs": [
    {
     "name": "stdout",
     "output_type": "stream",
     "text": [
      "[1 2 3 4 5]\n",
      "int32\n",
      "1\n",
      "[1.1 1.2 1.3 1.4]\n",
      "float64\n",
      "[1 2 3 4 5 6 7]\n",
      "int32\n",
      "['aa' 'bb' 'cc' 'dd']\n",
      "<U2\n",
      "['lemon' 'kiwi' 'banana']\n",
      "<U6\n",
      "[11 22 33 44 55]\n",
      "int32\n",
      "[1.2 2.2 3.3 4.4 5.5]\n",
      "float32\n",
      "[1 2 3 4 5 6]\n",
      "int32\n",
      "[11 22 33 44]\n",
      "int32\n",
      "[1 2 3 4 5 6 7]\n",
      "[1. 2. 3. 4. 5. 6. 7.]\n",
      "float64\n",
      "[1.1 1.2 2.2 3.4 4.5 6.7]\n",
      "[1 1 2 3 4 6]\n",
      "int32\n",
      "[1 3 0 5]\n",
      "[ True  True False  True]\n",
      "bool\n",
      "[100   2   3   4   5]\n",
      "[1 2 3 4 5]\n",
      "[  1   2 200   4   5   6]\n",
      "[  1   2 200   4   5   6]\n",
      "None\n",
      "[1 2 3 4 5 6]\n"
     ]
    }
   ],
   "source": [
    "# int \n",
    "arr = np.array([1,2,3,4,5])\n",
    "print(arr)\n",
    "print(arr.dtype)\n",
    "print(arr.ndim)\n",
    "arr = np.array([1.1,1.2,1.3,1.4])\n",
    "print(arr)\n",
    "print(arr.dtype)\n",
    "arr = np.array([1,2,3,4,5,6,7,], dtype = 'i4')\n",
    "print(arr)\n",
    "print(arr.dtype)\n",
    "arr = np.array(['aa','bb','cc','dd'])\n",
    "print(arr)\n",
    "print(arr.dtype)\n",
    "arr = np.array(['lemon','kiwi','banana'])\n",
    "print(arr)\n",
    "print(arr.dtype)\n",
    "arr = np.array([11,22,33,44,55], dtype = 'int')\n",
    "print(arr)\n",
    "print(arr.dtype)\n",
    "arr = np.array([1.2,2.2,3.3,4.4,5.5], dtype = 'f')\n",
    "print(arr)\n",
    "print(arr.dtype)\n",
    "arr = np.array([1,2,3,4,5,6],dtype = 'i4')\n",
    "print(arr)\n",
    "print(arr.dtype)\n",
    "arr = np.array(['11','22','33','44'],dtype = 'i')\n",
    "print(arr)\n",
    "print(arr.dtype)\n",
    "# int to float\n",
    "arr = np.array([1,2,3,4,5,6,7])\n",
    "newarr = arr.astype('float')\n",
    "print(arr)\n",
    "print(newarr)\n",
    "print(newarr.dtype)\n",
    "# float to int\n",
    "arr = np.array([1.1,1.2,2.2,3.4,4.5,6.7])\n",
    "a = arr.astype('int')\n",
    "print(arr)\n",
    "print(a)\n",
    "print(a.dtype)\n",
    "# int to bool\n",
    "arr = np.array([1,3,0,5])\n",
    "x = arr.astype('bool')\n",
    "print(arr)\n",
    "print(x)\n",
    "print(x.dtype)\n",
    "# copy\n",
    "arr = np.array([1,2,3,4,5])\n",
    "x = arr.copy()\n",
    "x[0]= 100\n",
    "\n",
    "print(x)\n",
    "print(arr)\n",
    "# view\n",
    "arr = np.array([1,2,3,4,5,6])\n",
    "x = arr.view()\n",
    "x[2] = 200\n",
    "print(arr)\n",
    "print(x)\n",
    "# base\n",
    "arr = np.array([1,2,3,4,5,6])\n",
    "x = arr.copy()\n",
    "y = arr.view()\n",
    "print(x.base)\n",
    "print(y.base)"
   ]
  },
  {
   "cell_type": "markdown",
   "id": "a539cdc8",
   "metadata": {},
   "source": [
    "### array reshaping"
   ]
  },
  {
   "cell_type": "code",
   "execution_count": 113,
   "id": "272a84d3",
   "metadata": {},
   "outputs": [
    {
     "name": "stdout",
     "output_type": "stream",
     "text": [
      "[1 2 3 4 5]\n",
      "int32\n"
     ]
    }
   ],
   "source": [
    "arr = np.array([1,2,3,4,5])\n",
    "print(arr)\n",
    "print(arr.dtype)"
   ]
  },
  {
   "cell_type": "code",
   "execution_count": 114,
   "id": "c8b340b8",
   "metadata": {},
   "outputs": [
    {
     "name": "stdout",
     "output_type": "stream",
     "text": [
      "[1 2 3 4 5 6]\n",
      "int32\n"
     ]
    }
   ],
   "source": [
    "arr = np.array([1,2,3,4,5,6])\n",
    "print(arr)\n",
    "print(arr.dtype)"
   ]
  },
  {
   "cell_type": "code",
   "execution_count": 115,
   "id": "52741477",
   "metadata": {},
   "outputs": [
    {
     "name": "stdout",
     "output_type": "stream",
     "text": [
      "[ 1  2  3  4  5  6  7  8  9 10]\n",
      "int32\n"
     ]
    }
   ],
   "source": [
    "arr = np.array([1,2,3,4,5,6,7,8,9,10])\n",
    "print(arr)\n",
    "print(arr.dtype)"
   ]
  },
  {
   "cell_type": "code",
   "execution_count": 121,
   "id": "dd2d3255",
   "metadata": {},
   "outputs": [
    {
     "name": "stdout",
     "output_type": "stream",
     "text": [
      "[11 12 13 14 15]\n",
      "int32\n",
      "int32\n",
      "int32\n",
      "int32\n"
     ]
    }
   ],
   "source": [
    "arr = np.array([11,12,13,14,15])\n",
    "print(arr)\n",
    "print(arr.dtype)\n",
    "print(arr.dtype)\n",
    "print(arr.dtype)\n",
    "print(arr.dtype)"
   ]
  },
  {
   "cell_type": "code",
   "execution_count": 122,
   "id": "b0629ff6",
   "metadata": {},
   "outputs": [
    {
     "name": "stdout",
     "output_type": "stream",
     "text": [
      "[1 2 3 4 5 6 7]\n",
      "int32\n"
     ]
    }
   ],
   "source": [
    "arr = np.array([1,2,3,4,5,6,7])\n",
    "print(arr)\n",
    "print(arr.dtype)"
   ]
  },
  {
   "cell_type": "code",
   "execution_count": 128,
   "id": "8ba1ed3c",
   "metadata": {},
   "outputs": [
    {
     "name": "stdout",
     "output_type": "stream",
     "text": [
      "[1 2 3 4 5 6 7 8 9]\n",
      "[1 2 3 4 5 6 7 8 9]\n",
      "int32\n",
      "int32\n",
      "int32\n",
      "int32\n",
      "int32\n"
     ]
    }
   ],
   "source": [
    "arr = np.array([1,2,3,4,5,6,7,8,9])\n",
    "print(arr)\n",
    "print(arr)\n",
    "print(arr.dtype)\n",
    "print(arr.dtype)\n",
    "print(arr.dtype)\n",
    "print(arr.dtype)\n",
    "print(arr.dtype)"
   ]
  },
  {
   "cell_type": "markdown",
   "id": "1e31c62d",
   "metadata": {},
   "source": [
    "arr = np.array([1,2,3,4,5,6,7,8])\n",
    "print(arr)\n",
    "print(arr)\n",
    "print(arr.dtype)\n",
    "print(arr.dtype)\n",
    "print(arr.dtype)\n",
    "print(arr.dtype)\n",
    "print(arr.dtype)\n",
    "print(arr.dtype)\n",
    "print(arr.dtype)"
   ]
  },
  {
   "cell_type": "code",
   "execution_count": 138,
   "id": "c1272f07",
   "metadata": {},
   "outputs": [
    {
     "name": "stdout",
     "output_type": "stream",
     "text": [
      "[1 2 3 4 5 6 7 8 9]\n",
      "int32\n"
     ]
    }
   ],
   "source": [
    "arr =np.array([1,2,3,4,5,6,7,8,9])\n",
    "print(arr)\n",
    "print(arr.dtype)"
   ]
  },
  {
   "cell_type": "markdown",
   "id": "10e36b16",
   "metadata": {},
   "source": [
    "### 3 -d array"
   ]
  },
  {
   "cell_type": "code",
   "execution_count": 140,
   "id": "f35dce43",
   "metadata": {},
   "outputs": [
    {
     "name": "stdout",
     "output_type": "stream",
     "text": [
      "[1 2 3 4 5 6 7 8]\n",
      "int32\n"
     ]
    }
   ],
   "source": [
    "arr = np.array([1,2,3,4,5,6,7,8])\n",
    "print(arr)\n",
    "print(arr.dtype)"
   ]
  },
  {
   "cell_type": "code",
   "execution_count": 146,
   "id": "6fe80073",
   "metadata": {},
   "outputs": [
    {
     "name": "stdout",
     "output_type": "stream",
     "text": [
      "[11 22 33 44 55 66 77 88 99]\n",
      "int32\n",
      "int32\n",
      "int32\n",
      "int32\n",
      "int32\n"
     ]
    }
   ],
   "source": [
    "arr = np.array([11,22,33,44,55,66,77,88,99])\n",
    "print(arr)\n",
    "print(arr.dtype)\n",
    "print(arr.dtype)\n",
    "print(arr.dtype)\n",
    "print(arr.dtype)\n",
    "print(arr.dtype)\n",
    "pr"
   ]
  },
  {
   "cell_type": "markdown",
   "id": "c2989bb3",
   "metadata": {},
   "source": [
    "### array reshaping"
   ]
  },
  {
   "cell_type": "code",
   "execution_count": 169,
   "id": "a9fb6052",
   "metadata": {},
   "outputs": [
    {
     "name": "stdout",
     "output_type": "stream",
     "text": [
      "12\n",
      "(12,)\n",
      "[[ 1  2]\n",
      " [ 3  4]\n",
      " [ 5  6]\n",
      " [ 7  8]\n",
      " [ 9 10]\n",
      " [11 12]]\n",
      "2\n",
      "[ 1  2  3  4  5  6  7  8  9 10 11 12]\n",
      "1\n"
     ]
    }
   ],
   "source": [
    "arr = np.array([1,2,3,4,5,6,7,8,9,10,11,12])\n",
    "\n",
    "print(arr.size)\n",
    "print(arr.shape)\n",
    "newarr = arr.reshape(6,2)\n",
    "print(newarr)\n",
    "print(newarr.ndim)\n",
    "print(arr)\n",
    "print(arr.ndim)"
   ]
  },
  {
   "cell_type": "code",
   "execution_count": 168,
   "id": "a812b9e9",
   "metadata": {},
   "outputs": [
    {
     "name": "stdout",
     "output_type": "stream",
     "text": [
      "[ 1  2  3  4  5  6  7  8  9 10 11 12 13 14 15 16]\n",
      "1\n",
      "(16,)\n",
      "16\n",
      "[[ 1  2  3  4]\n",
      " [ 5  6  7  8]\n",
      " [ 9 10 11 12]\n",
      " [13 14 15 16]]\n",
      "[[ 1]\n",
      " [ 2]\n",
      " [ 3]\n",
      " [ 4]\n",
      " [ 5]\n",
      " [ 6]\n",
      " [ 7]\n",
      " [ 8]\n",
      " [ 9]\n",
      " [10]\n",
      " [11]\n",
      " [12]\n",
      " [13]\n",
      " [14]\n",
      " [15]\n",
      " [16]]\n",
      "[[ 1  2]\n",
      " [ 3  4]\n",
      " [ 5  6]\n",
      " [ 7  8]\n",
      " [ 9 10]\n",
      " [11 12]\n",
      " [13 14]\n",
      " [15 16]]\n",
      "[[[ 1  2]\n",
      "  [ 3  4]]\n",
      "\n",
      " [[ 5  6]\n",
      "  [ 7  8]]\n",
      "\n",
      " [[ 9 10]\n",
      "  [11 12]]\n",
      "\n",
      " [[13 14]\n",
      "  [15 16]]]\n",
      "[[[ 1  2]\n",
      "  [ 3  4]\n",
      "  [ 5  6]\n",
      "  [ 7  8]]\n",
      "\n",
      " [[ 9 10]\n",
      "  [11 12]\n",
      "  [13 14]\n",
      "  [15 16]]]\n"
     ]
    }
   ],
   "source": [
    "arr = np.array([1,2,3,4,5,6,7,8,9,10,11,12,13,14,15,16])\n",
    "print(arr)\n",
    "print(arr.ndim)\n",
    "print(arr.shape)\n",
    "print(arr.size)\n",
    "x = arr.reshape(4,4)\n",
    "y = arr.reshape(16,1)\n",
    "z = arr.reshape(8,2)\n",
    "a = arr.reshape(4,2,2)\n",
    "b = arr.reshape(2,4,2)\n",
    "print(x)\n",
    "print(y)\n",
    "print(z)\n",
    "print(a)\n",
    "print(b)"
   ]
  },
  {
   "cell_type": "markdown",
   "id": "5aafe984",
   "metadata": {},
   "source": [
    "### array unkonwn dimension"
   ]
  },
  {
   "cell_type": "code",
   "execution_count": 173,
   "id": "cd00b1e0",
   "metadata": {},
   "outputs": [
    {
     "name": "stdout",
     "output_type": "stream",
     "text": [
      "[[1]\n",
      " [2]\n",
      " [3]\n",
      " [4]\n",
      " [5]\n",
      " [6]\n",
      " [7]\n",
      " [8]]\n",
      "[[[1]\n",
      "  [2]]\n",
      "\n",
      " [[3]\n",
      "  [4]]\n",
      "\n",
      " [[5]\n",
      "  [6]]\n",
      "\n",
      " [[7]\n",
      "  [8]]]\n",
      "[[[1 2]\n",
      "  [3 4]]\n",
      "\n",
      " [[5 6]\n",
      "  [7 8]]]\n"
     ]
    }
   ],
   "source": [
    "arr = np.array([1,2,3,4,5,6,7,8])\n",
    "x = arr.reshape(8,-1)\n",
    "y = arr.reshape(4,2,-1)\n",
    "z = arr.reshape(2,-1,2)\n",
    "print(x)\n",
    "print(y)\n",
    "print(z)"
   ]
  },
  {
   "cell_type": "markdown",
   "id": "288f0616",
   "metadata": {},
   "source": [
    "### array flattening\n"
   ]
  },
  {
   "cell_type": "code",
   "execution_count": 180,
   "id": "03f9a0c1",
   "metadata": {},
   "outputs": [
    {
     "name": "stdout",
     "output_type": "stream",
     "text": [
      "[[1 2 3 4]\n",
      " [5 6 7 8]]\n",
      "2\n",
      "(2, 4)\n",
      "[1 2 3 4 5 6 7 8]\n",
      "(8,)\n"
     ]
    }
   ],
   "source": [
    "arr = np.array([[1,2,3,4],[5,6,7,8]])\n",
    "print(arr)\n",
    "print(arr.ndim)\n",
    "print(arr.shape)\n",
    "x = arr.reshape(-1)\n",
    "print(x)\n",
    "print(x.shape)"
   ]
  },
  {
   "cell_type": "markdown",
   "id": "ce8e504f",
   "metadata": {},
   "source": [
    "### numpy array iterating"
   ]
  },
  {
   "cell_type": "code",
   "execution_count": 184,
   "id": "08ed565c",
   "metadata": {},
   "outputs": [
    {
     "name": "stdout",
     "output_type": "stream",
     "text": [
      "[1 2 3]\n",
      "1\n",
      "1\n",
      "2\n",
      "3\n"
     ]
    }
   ],
   "source": [
    "# iterating for 1 - d array\n",
    "arr = np.array([1,2,3])\n",
    "print(arr)\n",
    "print(arr.ndim)\n",
    "for i in arr:\n",
    "    print(i)"
   ]
  },
  {
   "cell_type": "code",
   "execution_count": 187,
   "id": "8619737b",
   "metadata": {},
   "outputs": [
    {
     "name": "stdout",
     "output_type": "stream",
     "text": [
      "[[1 2 3 4]\n",
      " [5 6 7 8]]\n",
      "2\n",
      "[1 2 3 4]\n",
      "1\n",
      "[5 6 7 8]\n",
      "1\n"
     ]
    }
   ],
   "source": [
    "# iterating for 2 - d array\n",
    "arr = np.array([[1,2,3,4],[5,6,7,8]])\n",
    "print(arr)\n",
    "print(arr.ndim)\n",
    "for x in arr:\n",
    "    print(x)\n",
    "    print(x.ndim)"
   ]
  },
  {
   "cell_type": "code",
   "execution_count": 188,
   "id": "ed716d26",
   "metadata": {},
   "outputs": [
    {
     "name": "stdout",
     "output_type": "stream",
     "text": [
      "[[1 2 3 4]\n",
      " [5 6 7 8]]\n",
      "[1 2 3 4]\n",
      "1\n",
      "2\n",
      "3\n",
      "4\n",
      "[5 6 7 8]\n",
      "5\n",
      "6\n",
      "7\n",
      "8\n"
     ]
    }
   ],
   "source": [
    "# iterating scalar element of 2 -d array\n",
    "arr = np.array([[1,2,3,4],[5,6,7,8]])\n",
    "print(arr)\n",
    "for x in arr:\n",
    "    print(x)\n",
    "    for y in x:\n",
    "        print(y)"
   ]
  },
  {
   "cell_type": "code",
   "execution_count": 193,
   "id": "871a9e56",
   "metadata": {},
   "outputs": [
    {
     "name": "stdout",
     "output_type": "stream",
     "text": [
      "[[[ 1  2  3  4]\n",
      "  [ 5  6  7  8]]\n",
      "\n",
      " [[ 9 10 11 12]\n",
      "  [13 14 15 16]]] \n",
      "\n",
      "[[1 2 3 4]\n",
      " [5 6 7 8]] \n",
      "\n",
      "[1 2 3 4] \n",
      "\n",
      "1\n",
      "2\n",
      "3\n",
      "4\n",
      "[5 6 7 8] \n",
      "\n",
      "5\n",
      "6\n",
      "7\n",
      "8\n",
      "[[ 9 10 11 12]\n",
      " [13 14 15 16]] \n",
      "\n",
      "[ 9 10 11 12] \n",
      "\n",
      "9\n",
      "10\n",
      "11\n",
      "12\n",
      "[13 14 15 16] \n",
      "\n",
      "13\n",
      "14\n",
      "15\n",
      "16\n"
     ]
    }
   ],
   "source": [
    "# iterating 3 - d array\n",
    "arr = np.array([[[1,2,3,4],[5,6,7,8]],[[9,10,11,12],[13,14,15,16]]])\n",
    "print(arr,'\\n')\n",
    "for x in arr:\n",
    "    print(x,'\\n')\n",
    "    for y in x:\n",
    "        print(y,'\\n')\n",
    "        for z in y:\n",
    "            print(z)"
   ]
  },
  {
   "cell_type": "code",
   "execution_count": 27,
   "id": "a82de04a",
   "metadata": {},
   "outputs": [
    {
     "name": "stdout",
     "output_type": "stream",
     "text": [
      "[[ 1  2  3  4]\n",
      " [ 5  6  7  8]\n",
      " [ 9 10 11 12]]\n",
      "[1 2 3 4]\n",
      "[5 6 7 8]\n",
      "[[ 8]\n",
      " [12]]\n",
      "[[1 2 3 4]\n",
      " [5 6 7 8]]\n",
      "[[ 1  2]\n",
      " [ 5  6]\n",
      " [ 9 10]]\n",
      "[[ 1  4]\n",
      " [ 5  8]\n",
      " [ 9 12]]\n"
     ]
    }
   ],
   "source": [
    "import numpy as np\n",
    "arr = np.array([[1,2,3,4,],[5,6,7,8],[9,10,11,12]])\n",
    "print(arr)\n",
    "print(arr[0])\n",
    "print(arr[1])\n",
    "print(arr[1:,3:])\n",
    "print(arr[0:2])\n",
    "print(arr[0:3,:2])\n",
    "print(arr[:,[0,-1]])"
   ]
  },
  {
   "cell_type": "code",
   "execution_count": 17,
   "id": "00b8f620",
   "metadata": {},
   "outputs": [
    {
     "name": "stdout",
     "output_type": "stream",
     "text": [
      "[[ 1  2  3  4]\n",
      " [ 5  6  7  8]\n",
      " [ 9 10 11 12]]\n"
     ]
    },
    {
     "data": {
      "text/plain": [
       "array([[ 2,  4,  6,  8],\n",
       "       [10, 12, 14, 16],\n",
       "       [18, 20, 22, 24]])"
      ]
     },
     "execution_count": 17,
     "metadata": {},
     "output_type": "execute_result"
    }
   ],
   "source": [
    "print(arr)\n",
    "arr<2\n",
    "arr * arr\n",
    "arr*2"
   ]
  },
  {
   "cell_type": "code",
   "execution_count": 37,
   "id": "4e63276a",
   "metadata": {},
   "outputs": [
    {
     "name": "stdout",
     "output_type": "stream",
     "text": [
      "[[1 2 3 4 5 6 7 8 9]]\n",
      "2\n",
      "[[[1 2 3]]\n",
      "\n",
      " [[4 5 6]]\n",
      "\n",
      " [[7 8 9]]]\n",
      "[1 2 3 4 5 6 7 8 9]\n",
      "[[1]\n",
      " [2]\n",
      " [3]\n",
      " [4]\n",
      " [5]\n",
      " [6]\n",
      " [7]\n",
      " [8]\n",
      " [9]]\n"
     ]
    }
   ],
   "source": [
    "arr = np.array([[1,2,3,4,5,6,7,8,9]])\n",
    "print(arr)\n",
    "print(arr.ndim)\n",
    "x = arr.reshape(3,1,3)\n",
    "y = arr.reshape(9)\n",
    "z = arr.reshape(9,1)\n",
    "print(x)\n",
    "print(y)\n",
    "print(z)\n"
   ]
  },
  {
   "cell_type": "code",
   "execution_count": 38,
   "id": "9cd76519",
   "metadata": {},
   "outputs": [
    {
     "name": "stdout",
     "output_type": "stream",
     "text": [
      "[1 2 3 4 5 6 7 8]\n"
     ]
    }
   ],
   "source": [
    "arr = np.array([1,2,3,4,5,6,7,8])\n",
    "x = arr.reshape(-1)\n",
    "print(x)"
   ]
  },
  {
   "cell_type": "code",
   "execution_count": 43,
   "id": "f0f6f09d",
   "metadata": {},
   "outputs": [
    {
     "name": "stdout",
     "output_type": "stream",
     "text": [
      "[[[ 1  2  3  4  5  6  7  8  9 10]]]\n"
     ]
    }
   ],
   "source": [
    "arr = np.array([1,2,3,4,5,6,7,8,9,10])\n",
    "x = arr.reshape(1,-1,10)\n",
    "print(x)"
   ]
  },
  {
   "cell_type": "code",
   "execution_count": 44,
   "id": "de39da99",
   "metadata": {},
   "outputs": [
    {
     "name": "stdout",
     "output_type": "stream",
     "text": [
      "1\n",
      "2\n",
      "3\n"
     ]
    }
   ],
   "source": [
    "arr = np.array([1,2,3])\n",
    "for x in arr:\n",
    "    print(x)"
   ]
  },
  {
   "cell_type": "code",
   "execution_count": 53,
   "id": "96863319",
   "metadata": {},
   "outputs": [
    {
     "name": "stdout",
     "output_type": "stream",
     "text": [
      "1\n",
      "2\n",
      "3\n",
      "4\n",
      "5\n",
      "6\n",
      "7\n",
      "8\n"
     ]
    }
   ],
   "source": [
    "arr = np.array([[1,2,3,4],[5,6,7,8]])\n",
    "for x in arr:\n",
    "    \n",
    "    for y in x:\n",
    "        print(y)"
   ]
  },
  {
   "cell_type": "code",
   "execution_count": 54,
   "id": "3d222635",
   "metadata": {},
   "outputs": [
    {
     "name": "stdout",
     "output_type": "stream",
     "text": [
      "1\n",
      "2\n",
      "3\n",
      "4\n",
      "5\n",
      "6\n",
      "7\n",
      "8\n",
      "9\n",
      "10\n",
      "11\n",
      "12\n",
      "13\n",
      "14\n",
      "15\n",
      "16\n"
     ]
    }
   ],
   "source": [
    "arr = np.array([[[1,2,3,4],[5,6,7,8]],[[9,10,11,12],[13,14,15,16]]])\n",
    "for x in arr:\n",
    "    \n",
    "    for y in x:\n",
    "       \n",
    "        for z in y:\n",
    "            print(z)"
   ]
  },
  {
   "cell_type": "code",
   "execution_count": 57,
   "id": "c0ccb33b",
   "metadata": {},
   "outputs": [
    {
     "name": "stdout",
     "output_type": "stream",
     "text": [
      "[[[ 1  2  3  4]\n",
      "  [ 5  6  7  8]]\n",
      "\n",
      " [[ 9 10 11 12]\n",
      "  [13 14 15 16]]]\n",
      "[[1 2 3 4]\n",
      " [5 6 7 8]]\n",
      "[1 2 3 4]\n",
      "1\n",
      "2\n",
      "3\n",
      "4\n",
      "[5 6 7 8]\n",
      "5\n",
      "6\n",
      "7\n",
      "8\n",
      "[[ 9 10 11 12]\n",
      " [13 14 15 16]]\n",
      "[ 9 10 11 12]\n",
      "9\n",
      "10\n",
      "11\n",
      "12\n",
      "[13 14 15 16]\n",
      "13\n",
      "14\n",
      "15\n",
      "16\n"
     ]
    }
   ],
   "source": [
    "arr = np.array([[[1,2,3,4],[5,6,7,8]],[[9,10,11,12],[13,14,15,16]]])\n",
    "print(arr)\n",
    "for x in arr:\n",
    "    print(x)\n",
    "    for y in x:\n",
    "        print(y)\n",
    "        for z in y:\n",
    "            print(z)"
   ]
  },
  {
   "cell_type": "markdown",
   "id": "c3fb94f0",
   "metadata": {},
   "source": [
    "### iterating array using nditer()"
   ]
  },
  {
   "cell_type": "code",
   "execution_count": 7,
   "id": "007259f1",
   "metadata": {},
   "outputs": [
    {
     "name": "stdout",
     "output_type": "stream",
     "text": [
      "1\n",
      "2\n",
      "3\n",
      "4\n",
      "5\n",
      "6\n",
      "7\n",
      "8\n",
      "1\n",
      "2\n",
      "3\n",
      "4\n",
      "5\n",
      "6\n",
      "7\n",
      "8\n"
     ]
    }
   ],
   "source": [
    "# iterating on 3 - d array\n",
    "import numpy as np\n",
    "arr = np.array([[[1,2],[3,4]],[[5,6],[7,8]]])\n",
    "for x in np.nditer(arr):\n",
    "    print(x)\n",
    "arr = np.array([[[1,2],[3,4]],[[5,6],[7,8]]])\n",
    "y =   np.nditer(arr)\n",
    "\n",
    "for x in y:\n",
    "    print(x)"
   ]
  },
  {
   "cell_type": "code",
   "execution_count": 12,
   "id": "e2d29ce6",
   "metadata": {},
   "outputs": [
    {
     "name": "stdout",
     "output_type": "stream",
     "text": [
      "b'1'\n",
      "b'2'\n",
      "b'3'\n",
      "1\n",
      "2\n",
      "3\n",
      "1.0\n",
      "2.0\n",
      "3.0\n",
      "1\n",
      "2\n",
      "3\n"
     ]
    }
   ],
   "source": [
    "arr = np.array([1,2,3])\n",
    "for x in np.nditer(arr, flags = ['buffered'], op_dtypes = ['S']):\n",
    "    print(x)\n",
    "for x in np.nditer(arr,flags = ['buffered'], op_dtypes = ['U']):\n",
    "    print(x)\n",
    "for x in np.nditer(arr, flags = ['buffered'], op_dtypes = ['float']):\n",
    "    print(x)\n",
    "for x in np.nditer(arr,flags = ['buffered'], op_dtypes = ['int']):\n",
    "    print(x)"
   ]
  },
  {
   "cell_type": "code",
   "execution_count": 13,
   "id": "e4b3c094",
   "metadata": {},
   "outputs": [
    {
     "data": {
      "text/plain": [
       "'1.25.2'"
      ]
     },
     "execution_count": 13,
     "metadata": {},
     "output_type": "execute_result"
    }
   ],
   "source": [
    "import numpy as np\n",
    "np.__version__"
   ]
  },
  {
   "cell_type": "code",
   "execution_count": 15,
   "id": "2d6b5707",
   "metadata": {},
   "outputs": [
    {
     "name": "stdout",
     "output_type": "stream",
     "text": [
      "[1 2 3 4 5 6 7 8 9]\n",
      "<class 'numpy.ndarray'>\n"
     ]
    }
   ],
   "source": [
    "arr = np.array([1,2,3,4,5,6,7,8,9])\n",
    "print(arr)\n",
    "print(type(arr))"
   ]
  },
  {
   "cell_type": "code",
   "execution_count": 16,
   "id": "ac45ce45",
   "metadata": {},
   "outputs": [
    {
     "name": "stdout",
     "output_type": "stream",
     "text": [
      "[1 2 3 4 5 6]\n",
      "<class 'numpy.ndarray'>\n"
     ]
    }
   ],
   "source": [
    "l = [1,2,3,4,5,6]\n",
    "arr = np.array(l)\n",
    "print(arr)\n",
    "print(type(arr))"
   ]
  },
  {
   "cell_type": "code",
   "execution_count": 20,
   "id": "6a63cf14",
   "metadata": {},
   "outputs": [
    {
     "name": "stdout",
     "output_type": "stream",
     "text": [
      "[1 2 3 4 5 6 7 8 9]\n",
      "<class 'numpy.ndarray'>\n",
      "1\n"
     ]
    }
   ],
   "source": [
    "tup = (1,2,3,4,5,6,7,8,9)\n",
    "arr = np.array(tup)\n",
    "print(arr)\n",
    "print(type(arr))\n",
    "print(arr.ndim)"
   ]
  },
  {
   "cell_type": "code",
   "execution_count": 21,
   "id": "cbc24987",
   "metadata": {},
   "outputs": [
    {
     "name": "stdout",
     "output_type": "stream",
     "text": [
      "[1 2 3 4 5]\n",
      "1\n"
     ]
    }
   ],
   "source": [
    "arr = np.array([1,2,3,4,5])\n",
    "print(arr)\n",
    "print(arr.ndim)"
   ]
  },
  {
   "cell_type": "code",
   "execution_count": 22,
   "id": "b06281bb",
   "metadata": {},
   "outputs": [
    {
     "name": "stdout",
     "output_type": "stream",
     "text": [
      "200\n",
      "0\n"
     ]
    }
   ],
   "source": [
    "arr = np.array(200)\n",
    "print(arr)\n",
    "print(arr.ndim)"
   ]
  },
  {
   "cell_type": "code",
   "execution_count": 23,
   "id": "250e9deb",
   "metadata": {},
   "outputs": [
    {
     "name": "stdout",
     "output_type": "stream",
     "text": [
      "[1 2 3 4 5]\n",
      "1\n"
     ]
    }
   ],
   "source": [
    "arr = np.array([1,2,3,4,5])\n",
    "print(arr)\n",
    "print(arr.ndim)"
   ]
  },
  {
   "cell_type": "code",
   "execution_count": 24,
   "id": "8b08b266",
   "metadata": {},
   "outputs": [
    {
     "name": "stdout",
     "output_type": "stream",
     "text": [
      "[[1 2 3 4 5 6 7]]\n",
      "2\n"
     ]
    }
   ],
   "source": [
    "arr = np.array([[1,2,3,4,5,6,7]])\n",
    "print(arr)\n",
    "print(arr.ndim)"
   ]
  },
  {
   "cell_type": "code",
   "execution_count": 25,
   "id": "b76f4989",
   "metadata": {},
   "outputs": [
    {
     "name": "stdout",
     "output_type": "stream",
     "text": [
      "[[[1 2 3 4]\n",
      "  [5 6 7 8]]]\n",
      "3\n"
     ]
    }
   ],
   "source": [
    "arr = np.array([[[1,2,3,4],[5,6,7,8]]])\n",
    "print(arr)\n",
    "print(arr.ndim)"
   ]
  },
  {
   "cell_type": "code",
   "execution_count": 34,
   "id": "71fb3ed4",
   "metadata": {},
   "outputs": [
    {
     "name": "stdout",
     "output_type": "stream",
     "text": [
      "[10 20 30 40 50]\n",
      "1\n",
      "50\n",
      "50\n",
      "40\n",
      "10\n"
     ]
    }
   ],
   "source": [
    "# access 1 - d array\n",
    "arr = np.array([10,20,30,40,50])\n",
    "print(arr)\n",
    "print(arr.ndim)\n",
    "print(arr[4])\n",
    "print(arr[-1])\n",
    "print(arr[3])\n",
    "print(arr[0])"
   ]
  },
  {
   "cell_type": "code",
   "execution_count": 46,
   "id": "ed25a567",
   "metadata": {},
   "outputs": [
    {
     "name": "stdout",
     "output_type": "stream",
     "text": [
      "[[ 1  2  3  4  5]\n",
      " [ 6  7  8  9 10]]\n",
      "2\n",
      "[1 2 3 4 5]\n",
      "[ 6  7  8  9 10]\n",
      "3\n",
      "[10]\n",
      "[5]\n",
      "3\n",
      "[10]\n",
      "7\n"
     ]
    }
   ],
   "source": [
    "# access 2 - d array\n",
    "arr = ([1,2,3,4,5],[6,7,8,9,10])\n",
    "ar = np.array(arr)\n",
    "print(ar)\n",
    "print(ar.ndim)\n",
    "print(ar[0])\n",
    "print(ar[1])\n",
    "print(ar[0][2])\n",
    "print(ar[1][4:])\n",
    "print(ar[0][4:])\n",
    "print(ar[0,2])\n",
    "print(ar[1,4:])\n",
    "print(ar[1,1])"
   ]
  },
  {
   "cell_type": "code",
   "execution_count": 62,
   "id": "898b219e",
   "metadata": {},
   "outputs": [
    {
     "name": "stdout",
     "output_type": "stream",
     "text": [
      "[[[ 11  22  33  44]\n",
      "  [ 55  66  77  88]]\n",
      "\n",
      " [[ 99 100 110 120]\n",
      "  [130 140 150 160]]]\n",
      "3\n",
      "[[11 22 33 44]\n",
      " [55 66 77 88]]\n",
      "[[ 99 100 110 120]\n",
      " [130 140 150 160]]\n",
      "[11 22 33 44]\n",
      "55\n",
      "120\n",
      "22\n",
      "44\n",
      "150\n"
     ]
    }
   ],
   "source": [
    "# access 3 - d array\n",
    "arr = ([[[11,22,33,44],[55,66,77,88]],[[99,100,110,120],[130,140,150,160]]])\n",
    "ar = np.array(arr)\n",
    "print(ar)\n",
    "print(ar.ndim)\n",
    "print(ar[0])\n",
    "print(ar[1])\n",
    "print(ar[0][0])\n",
    "print(ar[0][1][0])\n",
    "print(ar[1][0][3])\n",
    "print(ar[0,0,1])\n",
    "print(ar[0,0,3])\n",
    "print(ar[1,1,2])"
   ]
  },
  {
   "cell_type": "code",
   "execution_count": 63,
   "id": "87c41218",
   "metadata": {},
   "outputs": [
    {
     "name": "stdout",
     "output_type": "stream",
     "text": [
      "0\n",
      "1\n",
      "2\n",
      "3\n"
     ]
    }
   ],
   "source": [
    "a = np.array(0)\n",
    "b = np.array([1,2,3,4])\n",
    "c = np.array([[11,22,33,44]])\n",
    "d = np.array([[[10,20,30,40,50]]])\n",
    "print(a.ndim)\n",
    "print(b.ndim)\n",
    "print(c.ndim)\n",
    "print(d.ndim)"
   ]
  },
  {
   "cell_type": "code",
   "execution_count": 64,
   "id": "cc85a0a6",
   "metadata": {},
   "outputs": [
    {
     "name": "stdout",
     "output_type": "stream",
     "text": [
      "[[[[[1 2 3 4 5]]]]]\n"
     ]
    }
   ],
   "source": [
    "arr = np.array([1,2,3,4,5], ndmin = 5)\n",
    "print(arr)"
   ]
  },
  {
   "cell_type": "code",
   "execution_count": 92,
   "id": "08e57194",
   "metadata": {},
   "outputs": [
    {
     "name": "stdout",
     "output_type": "stream",
     "text": [
      "[1 2 3 4 5 6 7 8 9]\n",
      "1\n",
      "9\n",
      "[1 2 3 4 5 6 7 8]\n",
      "[1 2 3 4 5 6 7 8 9]\n",
      "[1 2 3 4 5]\n",
      "9\n",
      "9\n",
      "[4 5 6 7 8 9]\n",
      "[1 2 3 4 5]\n",
      "[6 7 8]\n",
      "[2 3 4]\n",
      "[2 4 6 8]\n",
      "[4 8]\n",
      "[1 3 5 7 9]\n",
      "[2 4 6 8]\n",
      "[6 9]\n"
     ]
    }
   ],
   "source": [
    "# numpy array slicing\n",
    "arr = np.array([1,2,3,4,5,6,7,8,9])\n",
    "print(arr)\n",
    "print(arr.ndim)\n",
    "print(len(arr))\n",
    "print(arr[0:8])\n",
    "print(arr[0:])\n",
    "print(arr[0:5])\n",
    "print(arr[-1])\n",
    "print(arr[8])\n",
    "print(arr[3:])\n",
    "print(arr[:5])\n",
    "print(arr[-4:-1])\n",
    "print(arr[-8:-5])\n",
    "print(arr[1:8:2])\n",
    "print(arr[3:8:4])\n",
    "print(arr[::2])\n",
    "print(arr[1::2])\n",
    "print(arr[5::3])\n",
    "\n"
   ]
  },
  {
   "cell_type": "code",
   "execution_count": 148,
   "id": "8f7cda41",
   "metadata": {},
   "outputs": [
    {
     "name": "stdout",
     "output_type": "stream",
     "text": [
      "[[ 1  2  3  4  5]\n",
      " [ 6  7  8  9 10]]\n",
      "2\n",
      "[1 2 3 4 5]\n",
      "[ 6  7  8  9 10]\n",
      "[[1 2 3 4 5]]\n",
      "[3 4 5]\n",
      "[ 8  9 10]\n",
      "[[ 3  4  5]\n",
      " [ 8  9 10]]\n",
      "[ 9 10]\n",
      "8\n",
      "[[ 3  4  5]\n",
      " [ 8  9 10]]\n",
      "[3 4 5]\n",
      "[[3 4]]\n",
      "[[2 3]\n",
      " [7 8]]\n",
      "[[1 2 3]\n",
      " [6 7 8]]\n"
     ]
    }
   ],
   "source": [
    "# numpy array slicing on 2 -d array\n",
    "arr = ([[1,2,3,4,5],[6,7,8,9,10]])\n",
    "ar = np.array(arr)\n",
    "print(ar)\n",
    "print(ar.ndim)\n",
    "print(ar[0])\n",
    "print(ar[1])\n",
    "print(ar[:1])\n",
    "print(ar[0,2:5])\n",
    "print(ar[1,2:])\n",
    "print(ar[0:,2:5])\n",
    "print(ar[1,3:5])\n",
    "print(ar[1,2])\n",
    "print(ar[:,2:5])\n",
    "print(ar[0,2:])\n",
    "print(ar[0:1,2:4])\n",
    "print(ar[0:,1:3])\n",
    "print(ar[0:,0:3])"
   ]
  },
  {
   "cell_type": "code",
   "execution_count": 181,
   "id": "075ee771",
   "metadata": {},
   "outputs": [
    {
     "name": "stdout",
     "output_type": "stream",
     "text": [
      "<class 'numpy.ndarray'>\n",
      "3\n",
      "[[1 2 3 4]\n",
      " [5 6 7 8]]\n",
      "[[ 9 10 11 12]\n",
      " [13 14 15 16]]\n",
      "[[[ 5  6  7  8]]\n",
      "\n",
      " [[13 14 15 16]]]\n",
      "[[[1 2 3 4]\n",
      "  [5 6 7 8]]]\n",
      "[[[13 14 15 16]]]\n",
      "[[1 2 3 4]\n",
      " [5 6 7 8]]\n",
      "[5 6 7 8]\n",
      "[1 2 3 4]\n",
      "[[5 6 7 8]]\n"
     ]
    }
   ],
   "source": [
    "# slicing 3 - d array\n",
    "arr = ([[[1,2,3,4],[5,6,7,8]],[[9,10,11,12],[13,14,15,16]]])\n",
    "ar = np.array(arr)\n",
    "print(type(ar))\n",
    "print(ar.ndim)\n",
    "print(ar[0])\n",
    "print(ar[1])\n",
    "print(ar[0:,1:])\n",
    "print(ar[:1])\n",
    "print(ar[1:4,1:2])\n",
    "print(ar[0])\n",
    "print(ar[0,1])\n",
    "print(ar[0,0])\n",
    "print(ar[0,1:3])"
   ]
  },
  {
   "cell_type": "code",
   "execution_count": 182,
   "id": "a64d8051",
   "metadata": {},
   "outputs": [
    {
     "name": "stdout",
     "output_type": "stream",
     "text": [
      "[1 2 3 4]\n",
      "int32\n"
     ]
    }
   ],
   "source": [
    "# data types\n",
    "# int\n",
    "arr = np.array([1,2,3,4])\n",
    "print(arr)\n",
    "print(arr.dtype)"
   ]
  },
  {
   "cell_type": "code",
   "execution_count": 183,
   "id": "92b54f31",
   "metadata": {},
   "outputs": [
    {
     "name": "stdout",
     "output_type": "stream",
     "text": [
      "[1.1 2.2 3.3 4.4]\n",
      "float64\n"
     ]
    }
   ],
   "source": [
    "arr = np.array([1.1,2.2,3.3,4.4])\n",
    "print(arr)\n",
    "print(arr.dtype)"
   ]
  },
  {
   "cell_type": "code",
   "execution_count": 184,
   "id": "f4ecdd3e",
   "metadata": {},
   "outputs": [
    {
     "name": "stdout",
     "output_type": "stream",
     "text": [
      "['apple' 'liwi' 'lemon' 'mango']\n",
      "<U5\n"
     ]
    }
   ],
   "source": [
    "arr = np.array(['apple','liwi','lemon','mango'])\n",
    "print(arr)\n",
    "print(arr.dtype)"
   ]
  },
  {
   "cell_type": "code",
   "execution_count": 185,
   "id": "95298470",
   "metadata": {},
   "outputs": [
    {
     "name": "stdout",
     "output_type": "stream",
     "text": [
      "['aa' 'bb' 'cc' 'dd' 'ee']\n",
      "<U2\n"
     ]
    }
   ],
   "source": [
    "arr = np.array(['aa','bb','cc','dd','ee'])\n",
    "print(arr)\n",
    "print(arr.dtype)"
   ]
  },
  {
   "cell_type": "code",
   "execution_count": 197,
   "id": "b4732191",
   "metadata": {},
   "outputs": [
    {
     "name": "stdout",
     "output_type": "stream",
     "text": [
      "[1 2 3 4 5]\n",
      "int32\n",
      "[[1 2 3 4 5 6]]\n",
      "int32\n",
      "[[[10. 20. 30. 40. 50. 60.]]]\n",
      "float64\n",
      "[11 22 33 44 55 66 77]\n",
      "int64\n",
      "[11 22 33 44 55 66 77]\n",
      "int32\n",
      "[11 22 33 44 55 66 77]\n",
      "int16\n",
      "[1 2 3 4]\n",
      "int32\n"
     ]
    }
   ],
   "source": [
    "arr = np.array([1,2,3,4,5], dtype = 'i')\n",
    "print(arr)\n",
    "print(arr.dtype)\n",
    "arr = np.array([[1,2,3,4,5,6]],dtype = 'int')\n",
    "print(arr)\n",
    "print(arr.dtype)\n",
    "arr = np.array([[[10,20,30,40,50,60]]], dtype = 'float')\n",
    "print(arr)\n",
    "print(arr.dtype)\n",
    "arr = np.array([11,22,33,44,55,66,77], dtype = 'i8')\n",
    "print(arr)\n",
    "print(arr.dtype)\n",
    "arr = np.array([11,22,33,44,55,66,77], dtype = 'i4')\n",
    "print(arr)\n",
    "print(arr.dtype)\n",
    "arr = np.array([11,22,33,44,55,66,77], dtype = 'i2')\n",
    "print(arr)\n",
    "print(arr.dtype)\n",
    "arr = np.array(['1','2','3','4'],dtype = 'int')\n",
    "print(arr)\n",
    "print(arr.dtype)"
   ]
  },
  {
   "cell_type": "code",
   "execution_count": 202,
   "id": "a1fc734a",
   "metadata": {},
   "outputs": [
    {
     "name": "stdout",
     "output_type": "stream",
     "text": [
      "[1 2 3 4 5 6]\n",
      "[1. 2. 3. 4. 5. 6.]\n",
      "float64\n",
      "[10 20 30 40 50]\n",
      "[ True  True  True  True  True]\n",
      "bool\n",
      "[1.1 2.2 3.3 4.4 5.5]\n",
      "[10 20 30 40 50]\n",
      "int32\n",
      "['1' '2' '3' '4' '5' '6']\n",
      "[1. 2. 3. 4. 5. 6.]\n",
      "float64\n"
     ]
    }
   ],
   "source": [
    "# data type conversion\n",
    "# int to float\n",
    "arr = np.array([1,2,3,4,5,6])\n",
    "x = arr.astype('float')\n",
    "print(arr)\n",
    "print(x)\n",
    "print(x.dtype)\n",
    "arr = np.array([10,20,30,40,50])\n",
    "a = arr.astype('bool')\n",
    "print(arr)\n",
    "print(a)\n",
    "print(a.dtype)\n",
    "a = np.array([1.1,2.2,3.3,4.4,5.5])\n",
    "y = arr.astype('int')\n",
    "print(a)\n",
    "print(y)\n",
    "print(y.dtype)\n",
    "arr = np.array(['1','2','3','4','5','6'])\n",
    "z = arr.astype('float')\n",
    "print(arr)\n",
    "print(z)\n",
    "print(z.dtype)"
   ]
  },
  {
   "cell_type": "code",
   "execution_count": 203,
   "id": "3b2d7c8d",
   "metadata": {},
   "outputs": [
    {
     "name": "stdout",
     "output_type": "stream",
     "text": [
      "[1 2 3 4 5 6 7]\n",
      "[100   2   3   4   5   6   7]\n"
     ]
    }
   ],
   "source": [
    "# copy\n",
    "arr = np.array([1,2,3,4,5,6,7])\n",
    "x = arr.copy()\n",
    "x[0] = 100\n",
    "print(arr)\n",
    "print(x)\n"
   ]
  },
  {
   "cell_type": "code",
   "execution_count": 206,
   "id": "f6248c9c",
   "metadata": {},
   "outputs": [
    {
     "name": "stdout",
     "output_type": "stream",
     "text": [
      "[100  20  30  40  50]\n",
      "[100  20  30  40  50]\n"
     ]
    }
   ],
   "source": [
    "# view\n",
    "arr = np.array([10,20,30,40,50])\n",
    "s = arr.view()\n",
    "s[0] = 100\n",
    "print(arr)\n",
    "print(s)\n"
   ]
  },
  {
   "cell_type": "code",
   "execution_count": 207,
   "id": "f4de4453",
   "metadata": {},
   "outputs": [
    {
     "name": "stdout",
     "output_type": "stream",
     "text": [
      "None\n",
      "[1 2 3 4 5 6 7 8 9]\n"
     ]
    }
   ],
   "source": [
    "# base\n",
    "arr = np.array([1,2,3,4,5,6,7,8,9])\n",
    "x = arr.copy()\n",
    "y = arr.view()\n",
    "print(x.base)\n",
    "print(y.base)"
   ]
  },
  {
   "cell_type": "code",
   "execution_count": 216,
   "id": "e213f159",
   "metadata": {},
   "outputs": [
    {
     "name": "stdout",
     "output_type": "stream",
     "text": [
      "[1 2 3 4 5 6 7 8 9]\n",
      "(9,)\n",
      "9\n",
      "[[1]\n",
      " [2]\n",
      " [3]\n",
      " [4]\n",
      " [5]\n",
      " [6]\n",
      " [7]\n",
      " [8]\n",
      " [9]]\n",
      "[1 2 3 4 5 6 7 8 9]\n",
      "[[[1]\n",
      "  [2]\n",
      "  [3]]\n",
      "\n",
      " [[4]\n",
      "  [5]\n",
      "  [6]]\n",
      "\n",
      " [[7]\n",
      "  [8]\n",
      "  [9]]]\n"
     ]
    }
   ],
   "source": [
    "# array reshaping\n",
    "arr = np.array([1,2,3,4,5,6,7,8,9])\n",
    "print(arr)\n",
    "print(arr.shape)\n",
    "print(arr.size)\n",
    "x = arr.reshape(9,1)\n",
    "print(x)\n",
    "y = arr.reshape(9)\n",
    "print(y)\n",
    "z = arr.reshape(3,3,1)\n",
    "print(z)\n"
   ]
  },
  {
   "cell_type": "code",
   "execution_count": 223,
   "id": "c80b8a0f",
   "metadata": {},
   "outputs": [
    {
     "name": "stdout",
     "output_type": "stream",
     "text": [
      "[[ 1  2  3  4  5  6  7  8  9 10 11 12]]\n",
      "(1, 12)\n",
      "12\n",
      "[ 1  2  3  4  5  6  7  8  9 10 11 12]\n",
      "[ 1  2  3  4  5  6  7  8  9 10 11 12]\n",
      "[[[ 1]\n",
      "  [ 2]\n",
      "  [ 3]]\n",
      "\n",
      " [[ 4]\n",
      "  [ 5]\n",
      "  [ 6]]\n",
      "\n",
      " [[ 7]\n",
      "  [ 8]\n",
      "  [ 9]]\n",
      "\n",
      " [[10]\n",
      "  [11]\n",
      "  [12]]]\n"
     ]
    }
   ],
   "source": [
    "arr = np.array([[1,2,3,4,5,6,7,8,9,10,11,12]])\n",
    "print(arr)\n",
    "print(arr.shape)\n",
    "print(arr.size)\n",
    "a = arr.reshape(-1)\n",
    "print(a)\n",
    "b = arr.reshape(12)\n",
    "print(b)\n",
    "c = arr.reshape(4,3,1)\n",
    "print(c)"
   ]
  },
  {
   "cell_type": "code",
   "execution_count": 226,
   "id": "7cabd316",
   "metadata": {},
   "outputs": [
    {
     "name": "stdout",
     "output_type": "stream",
     "text": [
      "[[[1 2 3 4 5 6 7 8 9]]]\n",
      "(1, 1, 9)\n",
      "9\n",
      "[1 2 3 4 5 6 7 8 9]\n",
      "[[1 2 3]\n",
      " [4 5 6]\n",
      " [7 8 9]]\n",
      "[[1]\n",
      " [2]\n",
      " [3]\n",
      " [4]\n",
      " [5]\n",
      " [6]\n",
      " [7]\n",
      " [8]\n",
      " [9]]\n"
     ]
    }
   ],
   "source": [
    "arr = np.array([[[1,2,3,4,5,6,7,8,9]]])\n",
    "print(arr)\n",
    "print(arr.shape)\n",
    "print(arr.size)\n",
    "a = arr.reshape(9)\n",
    "print(a)\n",
    "b = arr.reshape(3,3)\n",
    "print(b)\n",
    "c = arr.reshape(9,1)\n",
    "print(c)"
   ]
  },
  {
   "cell_type": "code",
   "execution_count": 238,
   "id": "0278b8fa",
   "metadata": {},
   "outputs": [
    {
     "name": "stdout",
     "output_type": "stream",
     "text": [
      "[[ 1]\n",
      " [ 2]\n",
      " [ 3]\n",
      " [ 4]\n",
      " [ 5]\n",
      " [ 6]\n",
      " [ 7]\n",
      " [ 8]\n",
      " [ 9]\n",
      " [10]]\n",
      "[[[ 1  2]]\n",
      "\n",
      " [[ 3  4]]\n",
      "\n",
      " [[ 5  6]]\n",
      "\n",
      " [[ 7  8]]\n",
      "\n",
      " [[ 9 10]]]\n",
      "[ 1  2  3  4  5  6  7  8  9 10]\n"
     ]
    }
   ],
   "source": [
    "# unknown dimensions\n",
    "arr = np.array([1,2,3,4,5,6,7,8,9,10])\n",
    "x = arr.reshape(10,-1)\n",
    "print(x)\n",
    "y = arr.reshape(5,-1,2)\n",
    "print(y)\n",
    "z = arr.reshape(10)\n",
    "print(z)"
   ]
  },
  {
   "cell_type": "code",
   "execution_count": 232,
   "id": "052d4c5d",
   "metadata": {},
   "outputs": [
    {
     "name": "stdout",
     "output_type": "stream",
     "text": [
      "[[1]\n",
      " [2]\n",
      " [3]\n",
      " [4]\n",
      " [5]\n",
      " [6]\n",
      " [7]\n",
      " [8]]\n",
      "[[[1]\n",
      "  [2]]\n",
      "\n",
      " [[3]\n",
      "  [4]]\n",
      "\n",
      " [[5]\n",
      "  [6]]\n",
      "\n",
      " [[7]\n",
      "  [8]]]\n",
      "[[[1 2]\n",
      "  [3 4]]\n",
      "\n",
      " [[5 6]\n",
      "  [7 8]]]\n"
     ]
    }
   ],
   "source": [
    "arr = np.array([1,2,3,4,5,6,7,8])\n",
    "x = arr.reshape(8,-1)\n",
    "y = arr.reshape(4,2,-1)\n",
    "z = arr.reshape(2,-1,2)\n",
    "print(x)\n",
    "print(y)\n",
    "print(z)"
   ]
  },
  {
   "cell_type": "code",
   "execution_count": 243,
   "id": "43cca198",
   "metadata": {},
   "outputs": [
    {
     "name": "stdout",
     "output_type": "stream",
     "text": [
      "[[[ 1  2  3  4  5  6  7  8  9 10]]]\n",
      "[ 1  2  3  4  5  6  7  8  9 10]\n",
      "[ 1  2  3  4  5  6  7  8  9 10]\n",
      "(10,)\n"
     ]
    }
   ],
   "source": [
    "# flattening an array\n",
    "arr = np.array([[[1,2,3,4,5,6,7,8,9,10]]])\n",
    "print(arr)\n",
    "a = arr.reshape(-1)\n",
    "b = arr.reshape(-10)\n",
    "print(b)\n",
    "print(a)\n",
    "print(a.shape)"
   ]
  },
  {
   "cell_type": "code",
   "execution_count": 244,
   "id": "0ca780c5",
   "metadata": {},
   "outputs": [
    {
     "name": "stdout",
     "output_type": "stream",
     "text": [
      "[1 2 3 4 5 6 7]\n",
      "1\n",
      "2\n",
      "3\n",
      "4\n",
      "5\n",
      "6\n",
      "7\n"
     ]
    }
   ],
   "source": [
    "# numpy array iterating\n",
    "arr = np.array([1,2,3,4,5,6,7])\n",
    "print(arr)\n",
    "for x in arr:\n",
    "    print(x)"
   ]
  },
  {
   "cell_type": "code",
   "execution_count": 245,
   "id": "958a8e97",
   "metadata": {},
   "outputs": [
    {
     "name": "stdout",
     "output_type": "stream",
     "text": [
      "[[ 1  2  3  4  5  6  7  8  9 10]]\n",
      "[ 1  2  3  4  5  6  7  8  9 10]\n",
      "1\n",
      "2\n",
      "3\n",
      "4\n",
      "5\n",
      "6\n",
      "7\n",
      "8\n",
      "9\n",
      "10\n"
     ]
    }
   ],
   "source": [
    "arr = np.array([[1,2,3,4,5,6,7,8,9,10]])\n",
    "print(arr)\n",
    "for x in arr:\n",
    "    print(x)\n",
    "    for y in x:\n",
    "        print(y)"
   ]
  },
  {
   "cell_type": "code",
   "execution_count": 247,
   "id": "300752c3",
   "metadata": {},
   "outputs": [
    {
     "name": "stdout",
     "output_type": "stream",
     "text": [
      "[[ 1  2  3  4  5]\n",
      " [ 6  7  8  9 10]]\n",
      "[1 2 3 4 5]\n",
      "1\n",
      "2\n",
      "3\n",
      "4\n",
      "5\n",
      "[ 6  7  8  9 10]\n",
      "6\n",
      "7\n",
      "8\n",
      "9\n",
      "10\n"
     ]
    }
   ],
   "source": [
    "arr = np.array([[1,2,3,4,5],[6,7,8,9,10]])\n",
    "print(arr)\n",
    "for x in arr:\n",
    "    print(x)\n",
    "    for y in x:\n",
    "        print(y)"
   ]
  },
  {
   "cell_type": "code",
   "execution_count": 248,
   "id": "95d7f572",
   "metadata": {},
   "outputs": [
    {
     "name": "stdout",
     "output_type": "stream",
     "text": [
      "[[[1 2 3 4 5 6 7 8 9]]]\n",
      "[[1 2 3 4 5 6 7 8 9]]\n",
      "[1 2 3 4 5 6 7 8 9]\n",
      "1\n",
      "2\n",
      "3\n",
      "4\n",
      "5\n",
      "6\n",
      "7\n",
      "8\n",
      "9\n"
     ]
    }
   ],
   "source": [
    "arr = np.array([[[1,2,3,4,5,6,7,8,9]]])\n",
    "print(arr)\n",
    "for x in arr:\n",
    "    print(x)\n",
    "    for y in x:\n",
    "        print(y)\n",
    "        for z in y:\n",
    "            print(z)"
   ]
  },
  {
   "cell_type": "code",
   "execution_count": 252,
   "id": "70d5ba26",
   "metadata": {},
   "outputs": [
    {
     "name": "stdout",
     "output_type": "stream",
     "text": [
      "1\n",
      "2\n",
      "3\n",
      "4\n",
      "5\n",
      "6\n",
      "7\n",
      "8\n",
      "9\n",
      "1\n",
      "2\n",
      "3\n",
      "4\n",
      "5\n",
      "6\n",
      "7\n",
      "8\n",
      "9\n",
      "10\n",
      "1\n",
      "2\n",
      "3\n",
      "4\n",
      "5\n",
      "6\n",
      "7\n",
      "8\n"
     ]
    }
   ],
   "source": [
    "# iterating array using nditer()\n",
    "arr = np.array([1,2,3,4,5,6,7,8,9])\n",
    "for x in np.nditer(arr):\n",
    "    print(x)\n",
    "arr = np.array([[1,2,3,4,5],[6,7,8,9,10]])\n",
    "for y in np.nditer(arr):\n",
    "    print(y)\n",
    "arr = np.array([[[1,2],[3,4]],[[5,6],[7,8]]]) \n",
    "for z in np.nditer(arr):\n",
    "    print(z)\n",
    "    "
   ]
  },
  {
   "cell_type": "code",
   "execution_count": 258,
   "id": "f643348b",
   "metadata": {},
   "outputs": [
    {
     "name": "stdout",
     "output_type": "stream",
     "text": [
      "b'1'\n",
      "b'2'\n",
      "b'3'\n",
      "b'4'\n",
      "b'5'\n",
      "b'6'\n",
      "b'7'\n",
      "b'8'\n",
      "b'9'\n",
      "b'10'\n",
      "1\n",
      "2\n",
      "3\n",
      "4\n",
      "5\n",
      "6\n",
      "7\n",
      "8\n",
      "9\n",
      "10\n",
      "1.0\n",
      "2.0\n",
      "3.0\n",
      "4.0\n",
      "5.0\n",
      "6.0\n",
      "7.0\n",
      "8.0\n",
      "9.0\n",
      "10.0\n"
     ]
    }
   ],
   "source": [
    "# casting array element from one type to another type\n",
    "arr = np.array([1,2,3,4,5,6,7,8,9,10])\n",
    "for x in np.nditer(arr, flags = ['buffered'], op_dtypes = ['S']):\n",
    "    print(x)\n",
    "for y in np.nditer(arr,flags = ['buffered'], op_dtypes = ['U']):\n",
    "    print(y)\n",
    "for z in np.nditer(arr, flags = ['buffered'], op_dtypes = ['float']):\n",
    "    print(z)"
   ]
  },
  {
   "cell_type": "code",
   "execution_count": 4,
   "id": "7b109640",
   "metadata": {},
   "outputs": [
    {
     "name": "stdout",
     "output_type": "stream",
     "text": [
      "[[10 20 30]\n",
      " [40 50 60]\n",
      " [70 80 90]] \n",
      "\n",
      "[[10 20 30]\n",
      " [40 50 60]]\n"
     ]
    }
   ],
   "source": [
    "# 2 -d array slicing\n",
    "import numpy as np\n",
    "arr = ([[10,20,30],[40,50,60],[70,80,90]])\n",
    "ar = np.array(arr)\n",
    "print(ar,'\\n')\n",
    "print(ar[:2])"
   ]
  },
  {
   "cell_type": "code",
   "execution_count": 9,
   "id": "fbc22d86",
   "metadata": {},
   "outputs": [
    {
     "name": "stdout",
     "output_type": "stream",
     "text": [
      "[[1 2 3]\n",
      " [4 5 6]\n",
      " [7 8 9]] \n",
      "\n",
      "[[2 3]\n",
      " [5 6]]\n",
      "[[4 5]\n",
      " [7 8]]\n"
     ]
    }
   ],
   "source": [
    "arr = ([[1,2,3],[4,5,6],[7,8,9]])\n",
    "ar = np.array(arr)\n",
    "print(ar,'\\n')\n",
    "print(ar[:2,1:3])\n",
    "print(ar[1:,0:2])"
   ]
  },
  {
   "cell_type": "code",
   "execution_count": 15,
   "id": "746404c6",
   "metadata": {},
   "outputs": [
    {
     "name": "stdout",
     "output_type": "stream",
     "text": [
      "[[[1 2]\n",
      "  [4 5]]]\n",
      "5\n"
     ]
    }
   ],
   "source": [
    "arr = ([[[1,2],[4,5]]])\n",
    "ar =np.array(arr)\n",
    "print(ar)\n",
    "print(ar[0,1,1])"
   ]
  },
  {
   "cell_type": "code",
   "execution_count": 24,
   "id": "1ece6c53",
   "metadata": {},
   "outputs": [
    {
     "name": "stdout",
     "output_type": "stream",
     "text": [
      "[1 2 3 4 5 6 7]\n",
      "[2 3 4 5]\n",
      "[2 3 4 5 6 7]\n",
      "[1]\n",
      "[1 2 3 4 5]\n",
      "[1 2 3 4 5]\n",
      "[2 4]\n",
      "[3 5]\n"
     ]
    }
   ],
   "source": [
    "a = np.array([1,2,3,4,5,6,7])\n",
    "print(a)\n",
    "print(a[1:5])\n",
    "print(a[1:])\n",
    "print(a[:1])\n",
    "print(a[:5])\n",
    "print(a[0:5])\n",
    "print(a[1:5:2])\n",
    "print(a[2:5:2])"
   ]
  },
  {
   "cell_type": "code",
   "execution_count": 41,
   "id": "2ff52968",
   "metadata": {},
   "outputs": [
    {
     "name": "stdout",
     "output_type": "stream",
     "text": [
      "[[ 1  2  3  4  5]\n",
      " [ 6  7  8  9 10]\n",
      " [11 12 13 14 15]]\n",
      "[ 8  9 10]\n",
      "[ 3  8 13]\n",
      "[ 4  9 14]\n",
      "[3 8]\n",
      "[10 15]\n",
      "[ 1  6 11]\n"
     ]
    }
   ],
   "source": [
    "a = ([[1,2,3,4,5],[6,7,8,9,10],[11,12,13,14,15]])\n",
    "ar = np.array(a)\n",
    "print(ar)\n",
    "print(ar[1,2:])\n",
    "print(ar[::,2])\n",
    "print(ar[:,3])\n",
    "print(ar[:2,2])\n",
    "print(ar[1:,4])\n",
    "print(ar[:3,0])"
   ]
  },
  {
   "cell_type": "code",
   "execution_count": 46,
   "id": "3531dfab",
   "metadata": {},
   "outputs": [
    {
     "name": "stdout",
     "output_type": "stream",
     "text": [
      "[[[ 1  2  3  4]\n",
      "  [ 5  6  7  8]\n",
      "  [ 9 10 11 12]\n",
      "  [13 14 15 16]]]\n",
      "[[[ 1  2  3  4]\n",
      "  [ 5  6  7  8]\n",
      "  [ 9 10 11 12]\n",
      "  [13 14 15 16]]]\n",
      "[[[ 1  2  3  4]\n",
      "  [ 5  6  7  8]\n",
      "  [ 9 10 11 12]\n",
      "  [13 14 15 16]]]\n",
      "[[[ 1  2  3  4]\n",
      "  [ 5  6  7  8]\n",
      "  [ 9 10 11 12]\n",
      "  [13 14 15 16]]]\n"
     ]
    }
   ],
   "source": [
    "arr = ([[[1,2,3,4],[5,6,7,8],[9,10,11,12],[13,14,15,16]]])\n",
    "ar = np.array(arr)\n",
    "print(ar)\n",
    "print(ar)\n",
    "print(ar)\n",
    "print(ar)\n"
   ]
  },
  {
   "cell_type": "code",
   "execution_count": null,
   "id": "75fdba9a",
   "metadata": {},
   "outputs": [],
   "source": []
  }
 ],
 "metadata": {
  "kernelspec": {
   "display_name": "Python 3 (ipykernel)",
   "language": "python",
   "name": "python3"
  },
  "language_info": {
   "codemirror_mode": {
    "name": "ipython",
    "version": 3
   },
   "file_extension": ".py",
   "mimetype": "text/x-python",
   "name": "python",
   "nbconvert_exporter": "python",
   "pygments_lexer": "ipython3",
   "version": "3.10.3"
  }
 },
 "nbformat": 4,
 "nbformat_minor": 5
}
